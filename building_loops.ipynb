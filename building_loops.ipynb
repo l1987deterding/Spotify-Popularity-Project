{
 "metadata": {
  "language_info": {
   "codemirror_mode": {
    "name": "ipython",
    "version": 3
   },
   "file_extension": ".py",
   "mimetype": "text/x-python",
   "name": "python",
   "nbconvert_exporter": "python",
   "pygments_lexer": "ipython3",
   "version": "3.8.5"
  },
  "orig_nbformat": 4,
  "kernelspec": {
   "name": "python3",
   "display_name": "Python 3.8.5 64-bit ('base': conda)"
  },
  "interpreter": {
   "hash": "797aaa517c2851f29685343c41d423cf5c6e3497bc2091e34cd352c6f05b7b6f"
  }
 },
 "nbformat": 4,
 "nbformat_minor": 2,
 "cells": [
  {
   "cell_type": "code",
   "execution_count": 1,
   "metadata": {},
   "outputs": [],
   "source": [
    "%matplotlib inline"
   ]
  },
  {
   "cell_type": "code",
   "execution_count": 2,
   "metadata": {},
   "outputs": [],
   "source": [
    "# Import dependencies\n",
    "import matplotlib.pyplot as plt\n",
    "import pandas as pd\n",
    "import numpy as np\n",
    "import scipy.stats as st\n",
    "from scipy.stats import linregress\n",
    "import os\n",
    "from datetime import datetime as dt "
   ]
  },
  {
   "cell_type": "code",
   "execution_count": 14,
   "metadata": {},
   "outputs": [
    {
     "output_type": "execute_result",
     "data": {
      "text/plain": [
       "                       id                                 name  popularity  \\\n",
       "0  35iwgR4jXetI318WEWsa1Q                                Carve           6   \n",
       "1  021ht4sdgPcrDgSk7JTbKY  Capítulo 2.16 - Banquero Anarquista           0   \n",
       "2  07A5yehtSnoedViJAZkNnc   Vivo para Quererte - Remasterizado           0   \n",
       "3  08FmqUhxtyLTn6pAh6bk45        El Prisionero - Remasterizado           0   \n",
       "4  08y9GfoqCWfOGsKdwojr5e                  Lady of the Evening           0   \n",
       "\n",
       "   duration_ms  explicit              artists                  id_artists  \\\n",
       "0       126903         0              ['Uli']  ['45tIt06XoI0Iio4LBEVpls']   \n",
       "1        98200         0  ['Fernando Pessoa']  ['14jtPCOoNZwquk5wd9DxrY']   \n",
       "2       181640         0  ['Ignacio Corsini']  ['5LiOoJbxVSAMkBS2fUm3X2']   \n",
       "3       176907         0  ['Ignacio Corsini']  ['5LiOoJbxVSAMkBS2fUm3X2']   \n",
       "4       163080         0      ['Dick Haymes']  ['3BiJGZsyX9sJchTqcSA7Su']   \n",
       "\n",
       "  release_date  danceability  energy  key  loudness  mode  speechiness  \\\n",
       "0   1922-02-22         0.645  0.4450    0   -13.338     1       0.4510   \n",
       "1   1922-06-01         0.695  0.2630    0   -22.136     1       0.9570   \n",
       "2   1922-03-21         0.434  0.1770    1   -21.180     1       0.0512   \n",
       "3   1922-03-21         0.321  0.0946    7   -27.961     1       0.0504   \n",
       "4         1922         0.402  0.1580    3   -16.900     0       0.0390   \n",
       "\n",
       "   acousticness  instrumentalness  liveness  valence    tempo  time_signature  \n",
       "0         0.674            0.7440     0.151    0.127  104.851               3  \n",
       "1         0.797            0.0000     0.148    0.655  102.009               1  \n",
       "2         0.994            0.0218     0.212    0.457  130.418               5  \n",
       "3         0.995            0.9180     0.104    0.397  169.980               3  \n",
       "4         0.989            0.1300     0.311    0.196  103.220               4  "
      ],
      "text/html": "<div>\n<style scoped>\n    .dataframe tbody tr th:only-of-type {\n        vertical-align: middle;\n    }\n\n    .dataframe tbody tr th {\n        vertical-align: top;\n    }\n\n    .dataframe thead th {\n        text-align: right;\n    }\n</style>\n<table border=\"1\" class=\"dataframe\">\n  <thead>\n    <tr style=\"text-align: right;\">\n      <th></th>\n      <th>id</th>\n      <th>name</th>\n      <th>popularity</th>\n      <th>duration_ms</th>\n      <th>explicit</th>\n      <th>artists</th>\n      <th>id_artists</th>\n      <th>release_date</th>\n      <th>danceability</th>\n      <th>energy</th>\n      <th>key</th>\n      <th>loudness</th>\n      <th>mode</th>\n      <th>speechiness</th>\n      <th>acousticness</th>\n      <th>instrumentalness</th>\n      <th>liveness</th>\n      <th>valence</th>\n      <th>tempo</th>\n      <th>time_signature</th>\n    </tr>\n  </thead>\n  <tbody>\n    <tr>\n      <th>0</th>\n      <td>35iwgR4jXetI318WEWsa1Q</td>\n      <td>Carve</td>\n      <td>6</td>\n      <td>126903</td>\n      <td>0</td>\n      <td>['Uli']</td>\n      <td>['45tIt06XoI0Iio4LBEVpls']</td>\n      <td>1922-02-22</td>\n      <td>0.645</td>\n      <td>0.4450</td>\n      <td>0</td>\n      <td>-13.338</td>\n      <td>1</td>\n      <td>0.4510</td>\n      <td>0.674</td>\n      <td>0.7440</td>\n      <td>0.151</td>\n      <td>0.127</td>\n      <td>104.851</td>\n      <td>3</td>\n    </tr>\n    <tr>\n      <th>1</th>\n      <td>021ht4sdgPcrDgSk7JTbKY</td>\n      <td>Capítulo 2.16 - Banquero Anarquista</td>\n      <td>0</td>\n      <td>98200</td>\n      <td>0</td>\n      <td>['Fernando Pessoa']</td>\n      <td>['14jtPCOoNZwquk5wd9DxrY']</td>\n      <td>1922-06-01</td>\n      <td>0.695</td>\n      <td>0.2630</td>\n      <td>0</td>\n      <td>-22.136</td>\n      <td>1</td>\n      <td>0.9570</td>\n      <td>0.797</td>\n      <td>0.0000</td>\n      <td>0.148</td>\n      <td>0.655</td>\n      <td>102.009</td>\n      <td>1</td>\n    </tr>\n    <tr>\n      <th>2</th>\n      <td>07A5yehtSnoedViJAZkNnc</td>\n      <td>Vivo para Quererte - Remasterizado</td>\n      <td>0</td>\n      <td>181640</td>\n      <td>0</td>\n      <td>['Ignacio Corsini']</td>\n      <td>['5LiOoJbxVSAMkBS2fUm3X2']</td>\n      <td>1922-03-21</td>\n      <td>0.434</td>\n      <td>0.1770</td>\n      <td>1</td>\n      <td>-21.180</td>\n      <td>1</td>\n      <td>0.0512</td>\n      <td>0.994</td>\n      <td>0.0218</td>\n      <td>0.212</td>\n      <td>0.457</td>\n      <td>130.418</td>\n      <td>5</td>\n    </tr>\n    <tr>\n      <th>3</th>\n      <td>08FmqUhxtyLTn6pAh6bk45</td>\n      <td>El Prisionero - Remasterizado</td>\n      <td>0</td>\n      <td>176907</td>\n      <td>0</td>\n      <td>['Ignacio Corsini']</td>\n      <td>['5LiOoJbxVSAMkBS2fUm3X2']</td>\n      <td>1922-03-21</td>\n      <td>0.321</td>\n      <td>0.0946</td>\n      <td>7</td>\n      <td>-27.961</td>\n      <td>1</td>\n      <td>0.0504</td>\n      <td>0.995</td>\n      <td>0.9180</td>\n      <td>0.104</td>\n      <td>0.397</td>\n      <td>169.980</td>\n      <td>3</td>\n    </tr>\n    <tr>\n      <th>4</th>\n      <td>08y9GfoqCWfOGsKdwojr5e</td>\n      <td>Lady of the Evening</td>\n      <td>0</td>\n      <td>163080</td>\n      <td>0</td>\n      <td>['Dick Haymes']</td>\n      <td>['3BiJGZsyX9sJchTqcSA7Su']</td>\n      <td>1922</td>\n      <td>0.402</td>\n      <td>0.1580</td>\n      <td>3</td>\n      <td>-16.900</td>\n      <td>0</td>\n      <td>0.0390</td>\n      <td>0.989</td>\n      <td>0.1300</td>\n      <td>0.311</td>\n      <td>0.196</td>\n      <td>103.220</td>\n      <td>4</td>\n    </tr>\n  </tbody>\n</table>\n</div>"
     },
     "metadata": {},
     "execution_count": 14
    }
   ],
   "source": [
    "# Load in file -- 586672 tracks\n",
    "file_path = os.path.join(os.getcwd(),'Resources', 'tracks.csv')\n",
    "tracks_df = pd.read_csv(file_path)\n",
    "tracks_df.head()"
   ]
  },
  {
   "cell_type": "code",
   "execution_count": 9,
   "metadata": {},
   "outputs": [],
   "source": [
    "# Clean and format data \n",
    "clean_df = tracks_df[['id', 'name', 'popularity', 'duration_ms', 'explicit', 'artists', 'release_date', 'danceability', 'energy', 'loudness', 'speechiness', 'acousticness', 'instrumentalness', 'liveness', 'valence', 'tempo']]"
   ]
  },
  {
   "source": [
    "clean_df = clean_df.dropna(how = 'any') # 586601 tracks\n",
    "clean_df"
   ],
   "cell_type": "code",
   "metadata": {},
   "execution_count": 11,
   "outputs": [
    {
     "output_type": "execute_result",
     "data": {
      "text/plain": [
       "                            id                                 name  \\\n",
       "0       35iwgR4jXetI318WEWsa1Q                                Carve   \n",
       "1       021ht4sdgPcrDgSk7JTbKY  Capítulo 2.16 - Banquero Anarquista   \n",
       "2       07A5yehtSnoedViJAZkNnc   Vivo para Quererte - Remasterizado   \n",
       "3       08FmqUhxtyLTn6pAh6bk45        El Prisionero - Remasterizado   \n",
       "4       08y9GfoqCWfOGsKdwojr5e                  Lady of the Evening   \n",
       "...                        ...                                  ...   \n",
       "586667  5rgu12WBIHQtvej2MdHSH0                                  云与海   \n",
       "586668  0NuWgxEp51CutD2pJoF4OM                                blind   \n",
       "586669  27Y1N4Q4U3EfDU5Ubw8ws2            What They'll Say About Us   \n",
       "586670  45XJsGpFTyzbzeWK8VzR8S                      A Day At A Time   \n",
       "586671  5Ocn6dZ3BJFPWh4ylwFXtn                     Mar de Emociones   \n",
       "\n",
       "        popularity  duration_ms  explicit                          artists  \\\n",
       "0                6       126903         0                          ['Uli']   \n",
       "1                0        98200         0              ['Fernando Pessoa']   \n",
       "2                0       181640         0              ['Ignacio Corsini']   \n",
       "3                0       176907         0              ['Ignacio Corsini']   \n",
       "4                0       163080         0                  ['Dick Haymes']   \n",
       "...            ...          ...       ...                              ...   \n",
       "586667          50       258267         0                      ['阿YueYue']   \n",
       "586668          72       153293         0                   ['ROLE MODEL']   \n",
       "586669          70       187601         0                      ['FINNEAS']   \n",
       "586670          58       142003         0  ['Gentle Bones', 'Clara Benin']   \n",
       "586671          38       214360         0                    ['Afrosound']   \n",
       "\n",
       "       release_date  danceability  energy  loudness  speechiness  \\\n",
       "0        1922-02-22         0.645  0.4450   -13.338       0.4510   \n",
       "1        1922-06-01         0.695  0.2630   -22.136       0.9570   \n",
       "2        1922-03-21         0.434  0.1770   -21.180       0.0512   \n",
       "3        1922-03-21         0.321  0.0946   -27.961       0.0504   \n",
       "4              1922         0.402  0.1580   -16.900       0.0390   \n",
       "...             ...           ...     ...       ...          ...   \n",
       "586667   2020-09-26         0.560  0.5180    -7.471       0.0292   \n",
       "586668   2020-10-21         0.765  0.6630    -5.223       0.0652   \n",
       "586669   2020-09-02         0.535  0.3140   -12.823       0.0408   \n",
       "586670   2021-03-05         0.696  0.6150    -6.212       0.0345   \n",
       "586671   2015-07-01         0.686  0.7230    -7.067       0.0363   \n",
       "\n",
       "        acousticness  instrumentalness  liveness  valence    tempo  \n",
       "0              0.674          0.744000    0.1510   0.1270  104.851  \n",
       "1              0.797          0.000000    0.1480   0.6550  102.009  \n",
       "2              0.994          0.021800    0.2120   0.4570  130.418  \n",
       "3              0.995          0.918000    0.1040   0.3970  169.980  \n",
       "4              0.989          0.130000    0.3110   0.1960  103.220  \n",
       "...              ...               ...       ...      ...      ...  \n",
       "586667         0.785          0.000000    0.0648   0.2110  131.896  \n",
       "586668         0.141          0.000297    0.0924   0.6860  150.091  \n",
       "586669         0.895          0.000150    0.0874   0.0663  145.095  \n",
       "586670         0.206          0.000003    0.3050   0.4380   90.029  \n",
       "586671         0.105          0.000000    0.2640   0.9750  112.204  \n",
       "\n",
       "[586601 rows x 16 columns]"
      ],
      "text/html": "<div>\n<style scoped>\n    .dataframe tbody tr th:only-of-type {\n        vertical-align: middle;\n    }\n\n    .dataframe tbody tr th {\n        vertical-align: top;\n    }\n\n    .dataframe thead th {\n        text-align: right;\n    }\n</style>\n<table border=\"1\" class=\"dataframe\">\n  <thead>\n    <tr style=\"text-align: right;\">\n      <th></th>\n      <th>id</th>\n      <th>name</th>\n      <th>popularity</th>\n      <th>duration_ms</th>\n      <th>explicit</th>\n      <th>artists</th>\n      <th>release_date</th>\n      <th>danceability</th>\n      <th>energy</th>\n      <th>loudness</th>\n      <th>speechiness</th>\n      <th>acousticness</th>\n      <th>instrumentalness</th>\n      <th>liveness</th>\n      <th>valence</th>\n      <th>tempo</th>\n    </tr>\n  </thead>\n  <tbody>\n    <tr>\n      <th>0</th>\n      <td>35iwgR4jXetI318WEWsa1Q</td>\n      <td>Carve</td>\n      <td>6</td>\n      <td>126903</td>\n      <td>0</td>\n      <td>['Uli']</td>\n      <td>1922-02-22</td>\n      <td>0.645</td>\n      <td>0.4450</td>\n      <td>-13.338</td>\n      <td>0.4510</td>\n      <td>0.674</td>\n      <td>0.744000</td>\n      <td>0.1510</td>\n      <td>0.1270</td>\n      <td>104.851</td>\n    </tr>\n    <tr>\n      <th>1</th>\n      <td>021ht4sdgPcrDgSk7JTbKY</td>\n      <td>Capítulo 2.16 - Banquero Anarquista</td>\n      <td>0</td>\n      <td>98200</td>\n      <td>0</td>\n      <td>['Fernando Pessoa']</td>\n      <td>1922-06-01</td>\n      <td>0.695</td>\n      <td>0.2630</td>\n      <td>-22.136</td>\n      <td>0.9570</td>\n      <td>0.797</td>\n      <td>0.000000</td>\n      <td>0.1480</td>\n      <td>0.6550</td>\n      <td>102.009</td>\n    </tr>\n    <tr>\n      <th>2</th>\n      <td>07A5yehtSnoedViJAZkNnc</td>\n      <td>Vivo para Quererte - Remasterizado</td>\n      <td>0</td>\n      <td>181640</td>\n      <td>0</td>\n      <td>['Ignacio Corsini']</td>\n      <td>1922-03-21</td>\n      <td>0.434</td>\n      <td>0.1770</td>\n      <td>-21.180</td>\n      <td>0.0512</td>\n      <td>0.994</td>\n      <td>0.021800</td>\n      <td>0.2120</td>\n      <td>0.4570</td>\n      <td>130.418</td>\n    </tr>\n    <tr>\n      <th>3</th>\n      <td>08FmqUhxtyLTn6pAh6bk45</td>\n      <td>El Prisionero - Remasterizado</td>\n      <td>0</td>\n      <td>176907</td>\n      <td>0</td>\n      <td>['Ignacio Corsini']</td>\n      <td>1922-03-21</td>\n      <td>0.321</td>\n      <td>0.0946</td>\n      <td>-27.961</td>\n      <td>0.0504</td>\n      <td>0.995</td>\n      <td>0.918000</td>\n      <td>0.1040</td>\n      <td>0.3970</td>\n      <td>169.980</td>\n    </tr>\n    <tr>\n      <th>4</th>\n      <td>08y9GfoqCWfOGsKdwojr5e</td>\n      <td>Lady of the Evening</td>\n      <td>0</td>\n      <td>163080</td>\n      <td>0</td>\n      <td>['Dick Haymes']</td>\n      <td>1922</td>\n      <td>0.402</td>\n      <td>0.1580</td>\n      <td>-16.900</td>\n      <td>0.0390</td>\n      <td>0.989</td>\n      <td>0.130000</td>\n      <td>0.3110</td>\n      <td>0.1960</td>\n      <td>103.220</td>\n    </tr>\n    <tr>\n      <th>...</th>\n      <td>...</td>\n      <td>...</td>\n      <td>...</td>\n      <td>...</td>\n      <td>...</td>\n      <td>...</td>\n      <td>...</td>\n      <td>...</td>\n      <td>...</td>\n      <td>...</td>\n      <td>...</td>\n      <td>...</td>\n      <td>...</td>\n      <td>...</td>\n      <td>...</td>\n      <td>...</td>\n    </tr>\n    <tr>\n      <th>586667</th>\n      <td>5rgu12WBIHQtvej2MdHSH0</td>\n      <td>云与海</td>\n      <td>50</td>\n      <td>258267</td>\n      <td>0</td>\n      <td>['阿YueYue']</td>\n      <td>2020-09-26</td>\n      <td>0.560</td>\n      <td>0.5180</td>\n      <td>-7.471</td>\n      <td>0.0292</td>\n      <td>0.785</td>\n      <td>0.000000</td>\n      <td>0.0648</td>\n      <td>0.2110</td>\n      <td>131.896</td>\n    </tr>\n    <tr>\n      <th>586668</th>\n      <td>0NuWgxEp51CutD2pJoF4OM</td>\n      <td>blind</td>\n      <td>72</td>\n      <td>153293</td>\n      <td>0</td>\n      <td>['ROLE MODEL']</td>\n      <td>2020-10-21</td>\n      <td>0.765</td>\n      <td>0.6630</td>\n      <td>-5.223</td>\n      <td>0.0652</td>\n      <td>0.141</td>\n      <td>0.000297</td>\n      <td>0.0924</td>\n      <td>0.6860</td>\n      <td>150.091</td>\n    </tr>\n    <tr>\n      <th>586669</th>\n      <td>27Y1N4Q4U3EfDU5Ubw8ws2</td>\n      <td>What They'll Say About Us</td>\n      <td>70</td>\n      <td>187601</td>\n      <td>0</td>\n      <td>['FINNEAS']</td>\n      <td>2020-09-02</td>\n      <td>0.535</td>\n      <td>0.3140</td>\n      <td>-12.823</td>\n      <td>0.0408</td>\n      <td>0.895</td>\n      <td>0.000150</td>\n      <td>0.0874</td>\n      <td>0.0663</td>\n      <td>145.095</td>\n    </tr>\n    <tr>\n      <th>586670</th>\n      <td>45XJsGpFTyzbzeWK8VzR8S</td>\n      <td>A Day At A Time</td>\n      <td>58</td>\n      <td>142003</td>\n      <td>0</td>\n      <td>['Gentle Bones', 'Clara Benin']</td>\n      <td>2021-03-05</td>\n      <td>0.696</td>\n      <td>0.6150</td>\n      <td>-6.212</td>\n      <td>0.0345</td>\n      <td>0.206</td>\n      <td>0.000003</td>\n      <td>0.3050</td>\n      <td>0.4380</td>\n      <td>90.029</td>\n    </tr>\n    <tr>\n      <th>586671</th>\n      <td>5Ocn6dZ3BJFPWh4ylwFXtn</td>\n      <td>Mar de Emociones</td>\n      <td>38</td>\n      <td>214360</td>\n      <td>0</td>\n      <td>['Afrosound']</td>\n      <td>2015-07-01</td>\n      <td>0.686</td>\n      <td>0.7230</td>\n      <td>-7.067</td>\n      <td>0.0363</td>\n      <td>0.105</td>\n      <td>0.000000</td>\n      <td>0.2640</td>\n      <td>0.9750</td>\n      <td>112.204</td>\n    </tr>\n  </tbody>\n</table>\n<p>586601 rows × 16 columns</p>\n</div>"
     },
     "metadata": {},
     "execution_count": 11
    }
   ]
  },
  {
   "cell_type": "code",
   "execution_count": 16,
   "metadata": {},
   "outputs": [
    {
     "output_type": "stream",
     "name": "stdout",
     "text": [
      "Number of lines in original set = 586601 \n The number of unique song titles = 446474 \n The number of artists = 114029\n\n Possible duplicates = 140127, which is 23.89%. Because different artists have songs with the same titles, the actual percentage of duplicates is less than this.\n"
     ]
    }
   ],
   "source": [
    "## Looking at tracks, unique titles, artists, & trying to determine possible duplicates\n",
    "total_tracks = len(clean_df)\n",
    "unique_songs = clean_df['name'].nunique()\n",
    "unique_artists = clean_df['artists'].nunique()\n",
    "pos_dupes = total_tracks - unique_songs\n",
    "print(f\"Number of lines in current set = {total_tracks} \\n The number of unique song titles = {unique_songs} \\n The number of artists = {unique_artists}\")\n",
    "print(f\"\\n Possible duplicates = {pos_dupes}, which is {round(pos_dupes/total_tracks*100,2)}%. Because different artists have songs with the same titles, the actual percentage of duplicates is less than this.\")"
   ]
  },
  {
   "cell_type": "code",
   "execution_count": 13,
   "metadata": {},
   "outputs": [
    {
     "output_type": "execute_result",
     "data": {
      "text/plain": [
       "                            id  \\\n",
       "207     3DzcB6weYL3L7oRNmsJCaV   \n",
       "491     41RLkvyELWv5ydLwQ6FsLu   \n",
       "999     5hGmr6KQWzcCGdTYxf4P4S   \n",
       "1520    3lZDXtwP8CdwuSO2PPJfaX   \n",
       "1558    4IYXV4qfys6ybXI5FhjTko   \n",
       "...                        ...   \n",
       "586139  204anQrlLm8N1CNjzJlXSs   \n",
       "586414  2tSPS5dRintqVulKAKni2T   \n",
       "586469  3hW0KHABBsresOUik93KF6   \n",
       "586514  2iSfhXTXCTXthD0ci36yhS   \n",
       "586567  7evFdDqiQUkRlo5yICNeIW   \n",
       "\n",
       "                                                     name  popularity  \\\n",
       "207                                   No One Else But You           6   \n",
       "491                      You Always Hurt the One You Love           0   \n",
       "999                       Stompin' at the Savoy - Mix One           0   \n",
       "1520                             One Night In Monte Carlo           4   \n",
       "1558                                  No One Else But You           2   \n",
       "...                                                   ...         ...   \n",
       "586139                                          One Voice          25   \n",
       "586414                                     One (feat. 지선)          42   \n",
       "586469                           One, Two, Buckle My Shoe          49   \n",
       "586514  Fifth Sunday of Lent, Year C: Has No One Conde...           1   \n",
       "586567                                      One Singapore          13   \n",
       "\n",
       "        duration_ms  explicit  \\\n",
       "207          201267         0   \n",
       "491          209058         0   \n",
       "999          192680         0   \n",
       "1520         182933         0   \n",
       "1558         200067         0   \n",
       "...             ...       ...   \n",
       "586139       353933         0   \n",
       "586414       230320         0   \n",
       "586469        33333         0   \n",
       "586514        37333         0   \n",
       "586567       236773         0   \n",
       "\n",
       "                                                  artists release_date  \\\n",
       "207         ['Louis Armstrong & His Savoy Ballroom Five']         1923   \n",
       "491                                      ['Harry Curtis']         1923   \n",
       "999                          ['Lionel Hampton Orchestra']         1924   \n",
       "1520                ['Tommy Dorsey & His Clambake Seven']         1925   \n",
       "1558    ['Louis Armstrong & His Hot Seven', 'Carroll D...         1925   \n",
       "...                                                   ...          ...   \n",
       "586139    ['Marty Nystrom', \"Integrity's Hosanna! Music\"]         1993   \n",
       "586414                                ['Epik High', '지선']   2008-04-17   \n",
       "586469                              ['Mother Goose Club']   2011-04-29   \n",
       "586514                             ['Christopher Walker']   2014-05-01   \n",
       "586567                            ['Sing A Nation Choir']   2015-07-31   \n",
       "\n",
       "        danceability  energy  loudness  speechiness  acousticness  \\\n",
       "207            0.496  0.3110   -11.202       0.1240        0.9230   \n",
       "491            0.475  0.2940   -12.168       0.0381        0.8800   \n",
       "999            0.742  0.8050    -5.123       0.0360        0.9190   \n",
       "1520           0.796  0.3410   -13.195       0.0567        0.9700   \n",
       "1558           0.531  0.2910   -11.169       0.1100        0.9760   \n",
       "...              ...     ...       ...          ...           ...   \n",
       "586139         0.363  0.2230   -14.234       0.0322        0.6710   \n",
       "586414         0.742  0.7830    -4.294       0.0368        0.0765   \n",
       "586469         0.912  0.5730   -11.185       0.0936        0.0152   \n",
       "586514         0.217  0.0192   -26.233       0.0503        0.9850   \n",
       "586567         0.550  0.9210    -4.821       0.2740        0.1380   \n",
       "\n",
       "        instrumentalness  liveness  valence    tempo  \n",
       "207             0.012700    0.2520   0.7180  191.035  \n",
       "491             0.000000    0.1090   0.2360  126.301  \n",
       "999             0.578000    0.2590   0.8400  112.840  \n",
       "1520            0.031300    0.2150   0.9460  117.325  \n",
       "1558            0.039200    0.2550   0.8480  192.062  \n",
       "...                  ...       ...      ...      ...  \n",
       "586139          0.000000    0.3550   0.1500  130.265  \n",
       "586414          0.000104    0.0558   0.5940  135.020  \n",
       "586469          0.000000    0.0715   0.9640   99.972  \n",
       "586514          0.018700    0.2250   0.0376  102.292  \n",
       "586567          0.000000    0.1520   0.6250  131.896  \n",
       "\n",
       "[2962 rows x 16 columns]"
      ],
      "text/html": "<div>\n<style scoped>\n    .dataframe tbody tr th:only-of-type {\n        vertical-align: middle;\n    }\n\n    .dataframe tbody tr th {\n        vertical-align: top;\n    }\n\n    .dataframe thead th {\n        text-align: right;\n    }\n</style>\n<table border=\"1\" class=\"dataframe\">\n  <thead>\n    <tr style=\"text-align: right;\">\n      <th></th>\n      <th>id</th>\n      <th>name</th>\n      <th>popularity</th>\n      <th>duration_ms</th>\n      <th>explicit</th>\n      <th>artists</th>\n      <th>release_date</th>\n      <th>danceability</th>\n      <th>energy</th>\n      <th>loudness</th>\n      <th>speechiness</th>\n      <th>acousticness</th>\n      <th>instrumentalness</th>\n      <th>liveness</th>\n      <th>valence</th>\n      <th>tempo</th>\n    </tr>\n  </thead>\n  <tbody>\n    <tr>\n      <th>207</th>\n      <td>3DzcB6weYL3L7oRNmsJCaV</td>\n      <td>No One Else But You</td>\n      <td>6</td>\n      <td>201267</td>\n      <td>0</td>\n      <td>['Louis Armstrong &amp; His Savoy Ballroom Five']</td>\n      <td>1923</td>\n      <td>0.496</td>\n      <td>0.3110</td>\n      <td>-11.202</td>\n      <td>0.1240</td>\n      <td>0.9230</td>\n      <td>0.012700</td>\n      <td>0.2520</td>\n      <td>0.7180</td>\n      <td>191.035</td>\n    </tr>\n    <tr>\n      <th>491</th>\n      <td>41RLkvyELWv5ydLwQ6FsLu</td>\n      <td>You Always Hurt the One You Love</td>\n      <td>0</td>\n      <td>209058</td>\n      <td>0</td>\n      <td>['Harry Curtis']</td>\n      <td>1923</td>\n      <td>0.475</td>\n      <td>0.2940</td>\n      <td>-12.168</td>\n      <td>0.0381</td>\n      <td>0.8800</td>\n      <td>0.000000</td>\n      <td>0.1090</td>\n      <td>0.2360</td>\n      <td>126.301</td>\n    </tr>\n    <tr>\n      <th>999</th>\n      <td>5hGmr6KQWzcCGdTYxf4P4S</td>\n      <td>Stompin' at the Savoy - Mix One</td>\n      <td>0</td>\n      <td>192680</td>\n      <td>0</td>\n      <td>['Lionel Hampton Orchestra']</td>\n      <td>1924</td>\n      <td>0.742</td>\n      <td>0.8050</td>\n      <td>-5.123</td>\n      <td>0.0360</td>\n      <td>0.9190</td>\n      <td>0.578000</td>\n      <td>0.2590</td>\n      <td>0.8400</td>\n      <td>112.840</td>\n    </tr>\n    <tr>\n      <th>1520</th>\n      <td>3lZDXtwP8CdwuSO2PPJfaX</td>\n      <td>One Night In Monte Carlo</td>\n      <td>4</td>\n      <td>182933</td>\n      <td>0</td>\n      <td>['Tommy Dorsey &amp; His Clambake Seven']</td>\n      <td>1925</td>\n      <td>0.796</td>\n      <td>0.3410</td>\n      <td>-13.195</td>\n      <td>0.0567</td>\n      <td>0.9700</td>\n      <td>0.031300</td>\n      <td>0.2150</td>\n      <td>0.9460</td>\n      <td>117.325</td>\n    </tr>\n    <tr>\n      <th>1558</th>\n      <td>4IYXV4qfys6ybXI5FhjTko</td>\n      <td>No One Else But You</td>\n      <td>2</td>\n      <td>200067</td>\n      <td>0</td>\n      <td>['Louis Armstrong &amp; His Hot Seven', 'Carroll D...</td>\n      <td>1925</td>\n      <td>0.531</td>\n      <td>0.2910</td>\n      <td>-11.169</td>\n      <td>0.1100</td>\n      <td>0.9760</td>\n      <td>0.039200</td>\n      <td>0.2550</td>\n      <td>0.8480</td>\n      <td>192.062</td>\n    </tr>\n    <tr>\n      <th>...</th>\n      <td>...</td>\n      <td>...</td>\n      <td>...</td>\n      <td>...</td>\n      <td>...</td>\n      <td>...</td>\n      <td>...</td>\n      <td>...</td>\n      <td>...</td>\n      <td>...</td>\n      <td>...</td>\n      <td>...</td>\n      <td>...</td>\n      <td>...</td>\n      <td>...</td>\n      <td>...</td>\n    </tr>\n    <tr>\n      <th>586139</th>\n      <td>204anQrlLm8N1CNjzJlXSs</td>\n      <td>One Voice</td>\n      <td>25</td>\n      <td>353933</td>\n      <td>0</td>\n      <td>['Marty Nystrom', \"Integrity's Hosanna! Music\"]</td>\n      <td>1993</td>\n      <td>0.363</td>\n      <td>0.2230</td>\n      <td>-14.234</td>\n      <td>0.0322</td>\n      <td>0.6710</td>\n      <td>0.000000</td>\n      <td>0.3550</td>\n      <td>0.1500</td>\n      <td>130.265</td>\n    </tr>\n    <tr>\n      <th>586414</th>\n      <td>2tSPS5dRintqVulKAKni2T</td>\n      <td>One (feat. 지선)</td>\n      <td>42</td>\n      <td>230320</td>\n      <td>0</td>\n      <td>['Epik High', '지선']</td>\n      <td>2008-04-17</td>\n      <td>0.742</td>\n      <td>0.7830</td>\n      <td>-4.294</td>\n      <td>0.0368</td>\n      <td>0.0765</td>\n      <td>0.000104</td>\n      <td>0.0558</td>\n      <td>0.5940</td>\n      <td>135.020</td>\n    </tr>\n    <tr>\n      <th>586469</th>\n      <td>3hW0KHABBsresOUik93KF6</td>\n      <td>One, Two, Buckle My Shoe</td>\n      <td>49</td>\n      <td>33333</td>\n      <td>0</td>\n      <td>['Mother Goose Club']</td>\n      <td>2011-04-29</td>\n      <td>0.912</td>\n      <td>0.5730</td>\n      <td>-11.185</td>\n      <td>0.0936</td>\n      <td>0.0152</td>\n      <td>0.000000</td>\n      <td>0.0715</td>\n      <td>0.9640</td>\n      <td>99.972</td>\n    </tr>\n    <tr>\n      <th>586514</th>\n      <td>2iSfhXTXCTXthD0ci36yhS</td>\n      <td>Fifth Sunday of Lent, Year C: Has No One Conde...</td>\n      <td>1</td>\n      <td>37333</td>\n      <td>0</td>\n      <td>['Christopher Walker']</td>\n      <td>2014-05-01</td>\n      <td>0.217</td>\n      <td>0.0192</td>\n      <td>-26.233</td>\n      <td>0.0503</td>\n      <td>0.9850</td>\n      <td>0.018700</td>\n      <td>0.2250</td>\n      <td>0.0376</td>\n      <td>102.292</td>\n    </tr>\n    <tr>\n      <th>586567</th>\n      <td>7evFdDqiQUkRlo5yICNeIW</td>\n      <td>One Singapore</td>\n      <td>13</td>\n      <td>236773</td>\n      <td>0</td>\n      <td>['Sing A Nation Choir']</td>\n      <td>2015-07-31</td>\n      <td>0.550</td>\n      <td>0.9210</td>\n      <td>-4.821</td>\n      <td>0.2740</td>\n      <td>0.1380</td>\n      <td>0.000000</td>\n      <td>0.1520</td>\n      <td>0.6250</td>\n      <td>131.896</td>\n    </tr>\n  </tbody>\n</table>\n<p>2962 rows × 16 columns</p>\n</div>"
     },
     "metadata": {},
     "execution_count": 13
    }
   ],
   "source": [
    "# smaller dataframe that might help figure out loops \n",
    "# 2962 rows\n",
    "# different artists & different song titles -- but should have duplicates of both\n",
    "contains_one_df = clean_df.loc[clean_df['name'].str.contains('One')]\n",
    "contails_one_df"
   ]
  },
  {
   "cell_type": "code",
   "execution_count": 17,
   "metadata": {},
   "outputs": [
    {
     "output_type": "execute_result",
     "data": {
      "text/plain": [
       "                            id  \\\n",
       "53586   0T702y9ndzZTnPq1bqiAM2   \n",
       "53947   7dni8dPFeedwSTX8hqcC3s   \n",
       "54306   37r50D42oXhzxtH3VyBzJX   \n",
       "54360   3OZG87f4TFHCt0t9VStdH0   \n",
       "54380   3w6Ml5q6dZ1WVcwHIa0JyI   \n",
       "...                        ...   \n",
       "549402  6AKfPkyy8yTfQKU48TuoMW   \n",
       "549506  6abwt2tM2wEwS1HPTFwNsr   \n",
       "549514  6aaKZMKFmxKbBJNjSW59O2   \n",
       "549632  05lBOiUnCwQaulWFMflvHT   \n",
       "563986  072hgfYnUYgdAqdFMazCzN   \n",
       "\n",
       "                                                     name  popularity  \\\n",
       "53586                     I Will Follow - Remastered 2008          59   \n",
       "53947                    Out Of Control - Remastered 2008          47   \n",
       "54306                  Stories For Boys - Remastered 2008          40   \n",
       "54360                     I Will Follow - Remastered 2008          40   \n",
       "54380                          Twilight - Remastered 2008          39   \n",
       "...                                                   ...         ...   \n",
       "549402                                     Sweetest Thing          25   \n",
       "549506                                   In God's Country          16   \n",
       "549514                                Bullet The Blue Sky          15   \n",
       "549632                             Running To Stand Still          11   \n",
       "563986  Two Hearts Beat As One - Club Version - Steve ...          23   \n",
       "\n",
       "        duration_ms  explicit artists release_date  danceability  energy  \\\n",
       "53586        217387         0  ['U2']   1980-10-20         0.360   0.909   \n",
       "53947        254040         0  ['U2']   1980-10-20         0.208   0.878   \n",
       "54306        182427         0  ['U2']   1980-10-20         0.228   0.905   \n",
       "54360        217387         0  ['U2']   1980-10-20         0.360   0.909   \n",
       "54380        262453         0  ['U2']   1980-10-20         0.377   0.776   \n",
       "...             ...       ...     ...          ...           ...     ...   \n",
       "549402       184543         0  ['U2']   1987-03-03         0.524   0.641   \n",
       "549506       176597         0  ['U2']   1987-03-03         0.497   0.704   \n",
       "549514       271547         0  ['U2']   1987-03-03         0.364   0.638   \n",
       "549632       257366         0  ['U2']   1987-03-03         0.537   0.199   \n",
       "563986       342800         0  ['U2']   1983-02-28         0.615   0.905   \n",
       "\n",
       "        loudness  speechiness  acousticness  instrumentalness  liveness  \\\n",
       "53586     -6.827       0.0663      0.000347          0.000033    0.2820   \n",
       "53947     -8.731       0.1300      0.000378          0.012000    0.0935   \n",
       "54306     -7.047       0.0575      0.031900          0.000014    0.1130   \n",
       "54360     -6.827       0.0663      0.000347          0.000033    0.2820   \n",
       "54380     -8.707       0.0355      0.004100          0.267000    0.1090   \n",
       "...          ...          ...           ...               ...       ...   \n",
       "549402    -8.967       0.0497      0.043700          0.000028    0.1590   \n",
       "549506    -8.085       0.0324      0.007100          0.000067    0.7830   \n",
       "549514   -10.240       0.0441      0.007350          0.399000    0.1330   \n",
       "549632   -18.726       0.0287      0.861000          0.025900    0.3340   \n",
       "563986    -7.424       0.0342      0.001790          0.043500    0.0358   \n",
       "\n",
       "        valence    tempo  \n",
       "53586     0.647  155.293  \n",
       "53947     0.401  155.162  \n",
       "54306     0.423  155.180  \n",
       "54360     0.647  155.293  \n",
       "54380     0.419  141.168  \n",
       "...         ...      ...  \n",
       "549402    0.482  141.650  \n",
       "549506    0.607  125.919  \n",
       "549514    0.451  152.509  \n",
       "549632    0.229   94.634  \n",
       "563986    0.879  141.644  \n",
       "\n",
       "[290 rows x 16 columns]"
      ],
      "text/html": "<div>\n<style scoped>\n    .dataframe tbody tr th:only-of-type {\n        vertical-align: middle;\n    }\n\n    .dataframe tbody tr th {\n        vertical-align: top;\n    }\n\n    .dataframe thead th {\n        text-align: right;\n    }\n</style>\n<table border=\"1\" class=\"dataframe\">\n  <thead>\n    <tr style=\"text-align: right;\">\n      <th></th>\n      <th>id</th>\n      <th>name</th>\n      <th>popularity</th>\n      <th>duration_ms</th>\n      <th>explicit</th>\n      <th>artists</th>\n      <th>release_date</th>\n      <th>danceability</th>\n      <th>energy</th>\n      <th>loudness</th>\n      <th>speechiness</th>\n      <th>acousticness</th>\n      <th>instrumentalness</th>\n      <th>liveness</th>\n      <th>valence</th>\n      <th>tempo</th>\n    </tr>\n  </thead>\n  <tbody>\n    <tr>\n      <th>53586</th>\n      <td>0T702y9ndzZTnPq1bqiAM2</td>\n      <td>I Will Follow - Remastered 2008</td>\n      <td>59</td>\n      <td>217387</td>\n      <td>0</td>\n      <td>['U2']</td>\n      <td>1980-10-20</td>\n      <td>0.360</td>\n      <td>0.909</td>\n      <td>-6.827</td>\n      <td>0.0663</td>\n      <td>0.000347</td>\n      <td>0.000033</td>\n      <td>0.2820</td>\n      <td>0.647</td>\n      <td>155.293</td>\n    </tr>\n    <tr>\n      <th>53947</th>\n      <td>7dni8dPFeedwSTX8hqcC3s</td>\n      <td>Out Of Control - Remastered 2008</td>\n      <td>47</td>\n      <td>254040</td>\n      <td>0</td>\n      <td>['U2']</td>\n      <td>1980-10-20</td>\n      <td>0.208</td>\n      <td>0.878</td>\n      <td>-8.731</td>\n      <td>0.1300</td>\n      <td>0.000378</td>\n      <td>0.012000</td>\n      <td>0.0935</td>\n      <td>0.401</td>\n      <td>155.162</td>\n    </tr>\n    <tr>\n      <th>54306</th>\n      <td>37r50D42oXhzxtH3VyBzJX</td>\n      <td>Stories For Boys - Remastered 2008</td>\n      <td>40</td>\n      <td>182427</td>\n      <td>0</td>\n      <td>['U2']</td>\n      <td>1980-10-20</td>\n      <td>0.228</td>\n      <td>0.905</td>\n      <td>-7.047</td>\n      <td>0.0575</td>\n      <td>0.031900</td>\n      <td>0.000014</td>\n      <td>0.1130</td>\n      <td>0.423</td>\n      <td>155.180</td>\n    </tr>\n    <tr>\n      <th>54360</th>\n      <td>3OZG87f4TFHCt0t9VStdH0</td>\n      <td>I Will Follow - Remastered 2008</td>\n      <td>40</td>\n      <td>217387</td>\n      <td>0</td>\n      <td>['U2']</td>\n      <td>1980-10-20</td>\n      <td>0.360</td>\n      <td>0.909</td>\n      <td>-6.827</td>\n      <td>0.0663</td>\n      <td>0.000347</td>\n      <td>0.000033</td>\n      <td>0.2820</td>\n      <td>0.647</td>\n      <td>155.293</td>\n    </tr>\n    <tr>\n      <th>54380</th>\n      <td>3w6Ml5q6dZ1WVcwHIa0JyI</td>\n      <td>Twilight - Remastered 2008</td>\n      <td>39</td>\n      <td>262453</td>\n      <td>0</td>\n      <td>['U2']</td>\n      <td>1980-10-20</td>\n      <td>0.377</td>\n      <td>0.776</td>\n      <td>-8.707</td>\n      <td>0.0355</td>\n      <td>0.004100</td>\n      <td>0.267000</td>\n      <td>0.1090</td>\n      <td>0.419</td>\n      <td>141.168</td>\n    </tr>\n    <tr>\n      <th>...</th>\n      <td>...</td>\n      <td>...</td>\n      <td>...</td>\n      <td>...</td>\n      <td>...</td>\n      <td>...</td>\n      <td>...</td>\n      <td>...</td>\n      <td>...</td>\n      <td>...</td>\n      <td>...</td>\n      <td>...</td>\n      <td>...</td>\n      <td>...</td>\n      <td>...</td>\n      <td>...</td>\n    </tr>\n    <tr>\n      <th>549402</th>\n      <td>6AKfPkyy8yTfQKU48TuoMW</td>\n      <td>Sweetest Thing</td>\n      <td>25</td>\n      <td>184543</td>\n      <td>0</td>\n      <td>['U2']</td>\n      <td>1987-03-03</td>\n      <td>0.524</td>\n      <td>0.641</td>\n      <td>-8.967</td>\n      <td>0.0497</td>\n      <td>0.043700</td>\n      <td>0.000028</td>\n      <td>0.1590</td>\n      <td>0.482</td>\n      <td>141.650</td>\n    </tr>\n    <tr>\n      <th>549506</th>\n      <td>6abwt2tM2wEwS1HPTFwNsr</td>\n      <td>In God's Country</td>\n      <td>16</td>\n      <td>176597</td>\n      <td>0</td>\n      <td>['U2']</td>\n      <td>1987-03-03</td>\n      <td>0.497</td>\n      <td>0.704</td>\n      <td>-8.085</td>\n      <td>0.0324</td>\n      <td>0.007100</td>\n      <td>0.000067</td>\n      <td>0.7830</td>\n      <td>0.607</td>\n      <td>125.919</td>\n    </tr>\n    <tr>\n      <th>549514</th>\n      <td>6aaKZMKFmxKbBJNjSW59O2</td>\n      <td>Bullet The Blue Sky</td>\n      <td>15</td>\n      <td>271547</td>\n      <td>0</td>\n      <td>['U2']</td>\n      <td>1987-03-03</td>\n      <td>0.364</td>\n      <td>0.638</td>\n      <td>-10.240</td>\n      <td>0.0441</td>\n      <td>0.007350</td>\n      <td>0.399000</td>\n      <td>0.1330</td>\n      <td>0.451</td>\n      <td>152.509</td>\n    </tr>\n    <tr>\n      <th>549632</th>\n      <td>05lBOiUnCwQaulWFMflvHT</td>\n      <td>Running To Stand Still</td>\n      <td>11</td>\n      <td>257366</td>\n      <td>0</td>\n      <td>['U2']</td>\n      <td>1987-03-03</td>\n      <td>0.537</td>\n      <td>0.199</td>\n      <td>-18.726</td>\n      <td>0.0287</td>\n      <td>0.861000</td>\n      <td>0.025900</td>\n      <td>0.3340</td>\n      <td>0.229</td>\n      <td>94.634</td>\n    </tr>\n    <tr>\n      <th>563986</th>\n      <td>072hgfYnUYgdAqdFMazCzN</td>\n      <td>Two Hearts Beat As One - Club Version - Steve ...</td>\n      <td>23</td>\n      <td>342800</td>\n      <td>0</td>\n      <td>['U2']</td>\n      <td>1983-02-28</td>\n      <td>0.615</td>\n      <td>0.905</td>\n      <td>-7.424</td>\n      <td>0.0342</td>\n      <td>0.001790</td>\n      <td>0.043500</td>\n      <td>0.0358</td>\n      <td>0.879</td>\n      <td>141.644</td>\n    </tr>\n  </tbody>\n</table>\n<p>290 rows × 16 columns</p>\n</div>"
     },
     "metadata": {},
     "execution_count": 17
    }
   ],
   "source": [
    "# smaller dataframe that might help figure out loops \n",
    "# 290 rows\n",
    "# one artist & different song titles -- but few duplicates of song titles\n",
    "u2_df = clean_df.loc[clean_df['artists'] == \"['U2']\"]\n",
    "u2_df"
   ]
  },
  {
   "cell_type": "code",
   "execution_count": 18,
   "metadata": {},
   "outputs": [
    {
     "output_type": "execute_result",
     "data": {
      "text/plain": [
       "                            id             name  popularity  duration_ms  \\\n",
       "81271   1QV6tiMFM6fSOKOGLMHYYg       Poker Face          78       237200   \n",
       "81300   5R8dQOPq8haW94K7mgERlO       Poker Face          75       237200   \n",
       "81331   02XnQdf7sipaKBBHixz3Zp        Paparazzi          72       208307   \n",
       "81417   7Hqig8kp32q2Ire3ECQvWM        Paparazzi          69       208307   \n",
       "81543   0eH2eHURaXUP15D8gQlfjx         LoveGame          65       216333   \n",
       "...                        ...              ...         ...          ...   \n",
       "558981  4q57oGT90FfPHf7vWp32Ho            Judas          38       249067   \n",
       "559227  69jnWw97sX1dYK2grPhyF9        You And I          31       307360   \n",
       "559768  1EntfuxWPYjI8ONzkfNb0W         Applause          40       212333   \n",
       "561178  3jArQ9tPKWxKnn18iXS3TF  Million Reasons          41       205280   \n",
       "583175  70vvnTUamBXOc0vRk7BBDu       Poker Face          50       237200   \n",
       "\n",
       "        explicit        artists release_date  danceability  energy  loudness  \\\n",
       "81271          0  ['Lady Gaga']   2008-01-01         0.851   0.806    -4.620   \n",
       "81300          0  ['Lady Gaga']   2008-01-01         0.851   0.806    -4.620   \n",
       "81331          0  ['Lady Gaga']   2008-01-01         0.762   0.692    -3.973   \n",
       "81417          0  ['Lady Gaga']   2008-01-01         0.762   0.692    -3.973   \n",
       "81543          0  ['Lady Gaga']   2008-01-01         0.894   0.678    -5.611   \n",
       "...          ...            ...          ...           ...     ...       ...   \n",
       "558981         0  ['Lady Gaga']   2011-01-01         0.664   0.934    -3.848   \n",
       "559227         0  ['Lady Gaga']   2011-01-01         0.521   0.701    -5.238   \n",
       "559768         0  ['Lady Gaga']   2013-11-11         0.669   0.780    -4.287   \n",
       "561178         0  ['Lady Gaga']   2016-10-21         0.666   0.423    -8.012   \n",
       "583175         0  ['Lady Gaga']   2009-11-18         0.851   0.806    -4.618   \n",
       "\n",
       "        speechiness  acousticness  instrumentalness  liveness  valence  \\\n",
       "81271        0.0787       0.11800          0.000002    0.1210    0.787   \n",
       "81300        0.0787       0.11800          0.000002    0.1210    0.787   \n",
       "81331        0.0438       0.11300          0.000000    0.0940    0.397   \n",
       "81417        0.0438       0.11300          0.000000    0.0940    0.397   \n",
       "81543        0.0523       0.00569          0.000002    0.3170    0.844   \n",
       "...             ...           ...               ...       ...      ...   \n",
       "558981       0.0697       0.00108          0.000028    0.2700    0.530   \n",
       "559227       0.0458       0.08920          0.000000    0.0876    0.518   \n",
       "559768       0.0530       0.02650          0.000002    0.1430    0.738   \n",
       "561178       0.0430       0.49400          0.000000    0.1060    0.154   \n",
       "583175       0.0788       0.12000          0.000001    0.1220    0.775   \n",
       "\n",
       "          tempo  \n",
       "81271   118.999  \n",
       "81300   118.999  \n",
       "81331   114.906  \n",
       "81417   114.906  \n",
       "81543   105.024  \n",
       "...         ...  \n",
       "558981  130.982  \n",
       "559227  127.087  \n",
       "559768  139.945  \n",
       "561178  129.890  \n",
       "583175  119.002  \n",
       "\n",
       "[77 rows x 16 columns]"
      ],
      "text/html": "<div>\n<style scoped>\n    .dataframe tbody tr th:only-of-type {\n        vertical-align: middle;\n    }\n\n    .dataframe tbody tr th {\n        vertical-align: top;\n    }\n\n    .dataframe thead th {\n        text-align: right;\n    }\n</style>\n<table border=\"1\" class=\"dataframe\">\n  <thead>\n    <tr style=\"text-align: right;\">\n      <th></th>\n      <th>id</th>\n      <th>name</th>\n      <th>popularity</th>\n      <th>duration_ms</th>\n      <th>explicit</th>\n      <th>artists</th>\n      <th>release_date</th>\n      <th>danceability</th>\n      <th>energy</th>\n      <th>loudness</th>\n      <th>speechiness</th>\n      <th>acousticness</th>\n      <th>instrumentalness</th>\n      <th>liveness</th>\n      <th>valence</th>\n      <th>tempo</th>\n    </tr>\n  </thead>\n  <tbody>\n    <tr>\n      <th>81271</th>\n      <td>1QV6tiMFM6fSOKOGLMHYYg</td>\n      <td>Poker Face</td>\n      <td>78</td>\n      <td>237200</td>\n      <td>0</td>\n      <td>['Lady Gaga']</td>\n      <td>2008-01-01</td>\n      <td>0.851</td>\n      <td>0.806</td>\n      <td>-4.620</td>\n      <td>0.0787</td>\n      <td>0.11800</td>\n      <td>0.000002</td>\n      <td>0.1210</td>\n      <td>0.787</td>\n      <td>118.999</td>\n    </tr>\n    <tr>\n      <th>81300</th>\n      <td>5R8dQOPq8haW94K7mgERlO</td>\n      <td>Poker Face</td>\n      <td>75</td>\n      <td>237200</td>\n      <td>0</td>\n      <td>['Lady Gaga']</td>\n      <td>2008-01-01</td>\n      <td>0.851</td>\n      <td>0.806</td>\n      <td>-4.620</td>\n      <td>0.0787</td>\n      <td>0.11800</td>\n      <td>0.000002</td>\n      <td>0.1210</td>\n      <td>0.787</td>\n      <td>118.999</td>\n    </tr>\n    <tr>\n      <th>81331</th>\n      <td>02XnQdf7sipaKBBHixz3Zp</td>\n      <td>Paparazzi</td>\n      <td>72</td>\n      <td>208307</td>\n      <td>0</td>\n      <td>['Lady Gaga']</td>\n      <td>2008-01-01</td>\n      <td>0.762</td>\n      <td>0.692</td>\n      <td>-3.973</td>\n      <td>0.0438</td>\n      <td>0.11300</td>\n      <td>0.000000</td>\n      <td>0.0940</td>\n      <td>0.397</td>\n      <td>114.906</td>\n    </tr>\n    <tr>\n      <th>81417</th>\n      <td>7Hqig8kp32q2Ire3ECQvWM</td>\n      <td>Paparazzi</td>\n      <td>69</td>\n      <td>208307</td>\n      <td>0</td>\n      <td>['Lady Gaga']</td>\n      <td>2008-01-01</td>\n      <td>0.762</td>\n      <td>0.692</td>\n      <td>-3.973</td>\n      <td>0.0438</td>\n      <td>0.11300</td>\n      <td>0.000000</td>\n      <td>0.0940</td>\n      <td>0.397</td>\n      <td>114.906</td>\n    </tr>\n    <tr>\n      <th>81543</th>\n      <td>0eH2eHURaXUP15D8gQlfjx</td>\n      <td>LoveGame</td>\n      <td>65</td>\n      <td>216333</td>\n      <td>0</td>\n      <td>['Lady Gaga']</td>\n      <td>2008-01-01</td>\n      <td>0.894</td>\n      <td>0.678</td>\n      <td>-5.611</td>\n      <td>0.0523</td>\n      <td>0.00569</td>\n      <td>0.000002</td>\n      <td>0.3170</td>\n      <td>0.844</td>\n      <td>105.024</td>\n    </tr>\n    <tr>\n      <th>...</th>\n      <td>...</td>\n      <td>...</td>\n      <td>...</td>\n      <td>...</td>\n      <td>...</td>\n      <td>...</td>\n      <td>...</td>\n      <td>...</td>\n      <td>...</td>\n      <td>...</td>\n      <td>...</td>\n      <td>...</td>\n      <td>...</td>\n      <td>...</td>\n      <td>...</td>\n      <td>...</td>\n    </tr>\n    <tr>\n      <th>558981</th>\n      <td>4q57oGT90FfPHf7vWp32Ho</td>\n      <td>Judas</td>\n      <td>38</td>\n      <td>249067</td>\n      <td>0</td>\n      <td>['Lady Gaga']</td>\n      <td>2011-01-01</td>\n      <td>0.664</td>\n      <td>0.934</td>\n      <td>-3.848</td>\n      <td>0.0697</td>\n      <td>0.00108</td>\n      <td>0.000028</td>\n      <td>0.2700</td>\n      <td>0.530</td>\n      <td>130.982</td>\n    </tr>\n    <tr>\n      <th>559227</th>\n      <td>69jnWw97sX1dYK2grPhyF9</td>\n      <td>You And I</td>\n      <td>31</td>\n      <td>307360</td>\n      <td>0</td>\n      <td>['Lady Gaga']</td>\n      <td>2011-01-01</td>\n      <td>0.521</td>\n      <td>0.701</td>\n      <td>-5.238</td>\n      <td>0.0458</td>\n      <td>0.08920</td>\n      <td>0.000000</td>\n      <td>0.0876</td>\n      <td>0.518</td>\n      <td>127.087</td>\n    </tr>\n    <tr>\n      <th>559768</th>\n      <td>1EntfuxWPYjI8ONzkfNb0W</td>\n      <td>Applause</td>\n      <td>40</td>\n      <td>212333</td>\n      <td>0</td>\n      <td>['Lady Gaga']</td>\n      <td>2013-11-11</td>\n      <td>0.669</td>\n      <td>0.780</td>\n      <td>-4.287</td>\n      <td>0.0530</td>\n      <td>0.02650</td>\n      <td>0.000002</td>\n      <td>0.1430</td>\n      <td>0.738</td>\n      <td>139.945</td>\n    </tr>\n    <tr>\n      <th>561178</th>\n      <td>3jArQ9tPKWxKnn18iXS3TF</td>\n      <td>Million Reasons</td>\n      <td>41</td>\n      <td>205280</td>\n      <td>0</td>\n      <td>['Lady Gaga']</td>\n      <td>2016-10-21</td>\n      <td>0.666</td>\n      <td>0.423</td>\n      <td>-8.012</td>\n      <td>0.0430</td>\n      <td>0.49400</td>\n      <td>0.000000</td>\n      <td>0.1060</td>\n      <td>0.154</td>\n      <td>129.890</td>\n    </tr>\n    <tr>\n      <th>583175</th>\n      <td>70vvnTUamBXOc0vRk7BBDu</td>\n      <td>Poker Face</td>\n      <td>50</td>\n      <td>237200</td>\n      <td>0</td>\n      <td>['Lady Gaga']</td>\n      <td>2009-11-18</td>\n      <td>0.851</td>\n      <td>0.806</td>\n      <td>-4.618</td>\n      <td>0.0788</td>\n      <td>0.12000</td>\n      <td>0.000001</td>\n      <td>0.1220</td>\n      <td>0.775</td>\n      <td>119.002</td>\n    </tr>\n  </tbody>\n</table>\n<p>77 rows × 16 columns</p>\n</div>"
     },
     "metadata": {},
     "execution_count": 18
    }
   ],
   "source": [
    "# smaller dataframe for testing loops\n",
    "# 77 tracks\n",
    "# one artist & multiple duplicates that look like exact same track\n",
    "gaga_df = clean_df.loc[clean_df['artists'] == \"['Lady Gaga']\"]\n",
    "gaga_df"
   ]
  },
  {
   "cell_type": "code",
   "execution_count": 19,
   "metadata": {},
   "outputs": [
    {
     "output_type": "execute_result",
     "data": {
      "text/plain": [
       "                            id        name  popularity  duration_ms  explicit  \\\n",
       "81271   1QV6tiMFM6fSOKOGLMHYYg  Poker Face          78       237200         0   \n",
       "81300   5R8dQOPq8haW94K7mgERlO  Poker Face          75       237200         0   \n",
       "110065  4liFTpYparE2zEUp2GfG64  Poker Face          36       238907         0   \n",
       "130728  7zACUQbWQxzT4aER7ityBV  Poker Face          57       237200         0   \n",
       "200963  4wB4cPK52RCQviHm4SC2wa  Poker Face           9       238907         0   \n",
       "387594  3cJTPvEe33hGNJguNPAoBC  Poker Face          46       237533         0   \n",
       "444082  0gVpWodvUHcvcgVjK26Jga  Poker Face           3       238320         0   \n",
       "583175  70vvnTUamBXOc0vRk7BBDu  Poker Face          50       237200         0   \n",
       "\n",
       "              artists release_date  danceability  energy  loudness  \\\n",
       "81271   ['Lady Gaga']   2008-01-01         0.851   0.806    -4.620   \n",
       "81300   ['Lady Gaga']   2008-01-01         0.851   0.806    -4.620   \n",
       "110065  ['Lady Gaga']   2020-10-23         0.851   0.818    -4.637   \n",
       "130728  ['Lady Gaga']   2009-11-05         0.851   0.806    -4.620   \n",
       "200963  ['Lady Gaga']   2020-10-23         0.851   0.818    -4.637   \n",
       "387594  ['Lady Gaga']   2008-09-26         0.849   0.824    -4.610   \n",
       "444082  ['Lady Gaga']   2015-12-11         0.850   0.784    -5.668   \n",
       "583175  ['Lady Gaga']   2009-11-18         0.851   0.806    -4.618   \n",
       "\n",
       "        speechiness  acousticness  instrumentalness  liveness  valence  \\\n",
       "81271        0.0787         0.118          0.000002    0.1210    0.787   \n",
       "81300        0.0787         0.118          0.000002    0.1210    0.787   \n",
       "110065       0.0789         0.112          0.000003    0.0945    0.808   \n",
       "130728       0.0787         0.118          0.000002    0.1210    0.787   \n",
       "200963       0.0789         0.112          0.000003    0.0945    0.808   \n",
       "387594       0.0788         0.128          0.000003    0.0867    0.785   \n",
       "444082       0.0785         0.134          0.000003    0.0997    0.779   \n",
       "583175       0.0788         0.120          0.000001    0.1220    0.775   \n",
       "\n",
       "          tempo  \n",
       "81271   118.999  \n",
       "81300   118.999  \n",
       "110065  119.006  \n",
       "130728  118.999  \n",
       "200963  119.006  \n",
       "387594  119.001  \n",
       "444082  119.000  \n",
       "583175  119.002  "
      ],
      "text/html": "<div>\n<style scoped>\n    .dataframe tbody tr th:only-of-type {\n        vertical-align: middle;\n    }\n\n    .dataframe tbody tr th {\n        vertical-align: top;\n    }\n\n    .dataframe thead th {\n        text-align: right;\n    }\n</style>\n<table border=\"1\" class=\"dataframe\">\n  <thead>\n    <tr style=\"text-align: right;\">\n      <th></th>\n      <th>id</th>\n      <th>name</th>\n      <th>popularity</th>\n      <th>duration_ms</th>\n      <th>explicit</th>\n      <th>artists</th>\n      <th>release_date</th>\n      <th>danceability</th>\n      <th>energy</th>\n      <th>loudness</th>\n      <th>speechiness</th>\n      <th>acousticness</th>\n      <th>instrumentalness</th>\n      <th>liveness</th>\n      <th>valence</th>\n      <th>tempo</th>\n    </tr>\n  </thead>\n  <tbody>\n    <tr>\n      <th>81271</th>\n      <td>1QV6tiMFM6fSOKOGLMHYYg</td>\n      <td>Poker Face</td>\n      <td>78</td>\n      <td>237200</td>\n      <td>0</td>\n      <td>['Lady Gaga']</td>\n      <td>2008-01-01</td>\n      <td>0.851</td>\n      <td>0.806</td>\n      <td>-4.620</td>\n      <td>0.0787</td>\n      <td>0.118</td>\n      <td>0.000002</td>\n      <td>0.1210</td>\n      <td>0.787</td>\n      <td>118.999</td>\n    </tr>\n    <tr>\n      <th>81300</th>\n      <td>5R8dQOPq8haW94K7mgERlO</td>\n      <td>Poker Face</td>\n      <td>75</td>\n      <td>237200</td>\n      <td>0</td>\n      <td>['Lady Gaga']</td>\n      <td>2008-01-01</td>\n      <td>0.851</td>\n      <td>0.806</td>\n      <td>-4.620</td>\n      <td>0.0787</td>\n      <td>0.118</td>\n      <td>0.000002</td>\n      <td>0.1210</td>\n      <td>0.787</td>\n      <td>118.999</td>\n    </tr>\n    <tr>\n      <th>110065</th>\n      <td>4liFTpYparE2zEUp2GfG64</td>\n      <td>Poker Face</td>\n      <td>36</td>\n      <td>238907</td>\n      <td>0</td>\n      <td>['Lady Gaga']</td>\n      <td>2020-10-23</td>\n      <td>0.851</td>\n      <td>0.818</td>\n      <td>-4.637</td>\n      <td>0.0789</td>\n      <td>0.112</td>\n      <td>0.000003</td>\n      <td>0.0945</td>\n      <td>0.808</td>\n      <td>119.006</td>\n    </tr>\n    <tr>\n      <th>130728</th>\n      <td>7zACUQbWQxzT4aER7ityBV</td>\n      <td>Poker Face</td>\n      <td>57</td>\n      <td>237200</td>\n      <td>0</td>\n      <td>['Lady Gaga']</td>\n      <td>2009-11-05</td>\n      <td>0.851</td>\n      <td>0.806</td>\n      <td>-4.620</td>\n      <td>0.0787</td>\n      <td>0.118</td>\n      <td>0.000002</td>\n      <td>0.1210</td>\n      <td>0.787</td>\n      <td>118.999</td>\n    </tr>\n    <tr>\n      <th>200963</th>\n      <td>4wB4cPK52RCQviHm4SC2wa</td>\n      <td>Poker Face</td>\n      <td>9</td>\n      <td>238907</td>\n      <td>0</td>\n      <td>['Lady Gaga']</td>\n      <td>2020-10-23</td>\n      <td>0.851</td>\n      <td>0.818</td>\n      <td>-4.637</td>\n      <td>0.0789</td>\n      <td>0.112</td>\n      <td>0.000003</td>\n      <td>0.0945</td>\n      <td>0.808</td>\n      <td>119.006</td>\n    </tr>\n    <tr>\n      <th>387594</th>\n      <td>3cJTPvEe33hGNJguNPAoBC</td>\n      <td>Poker Face</td>\n      <td>46</td>\n      <td>237533</td>\n      <td>0</td>\n      <td>['Lady Gaga']</td>\n      <td>2008-09-26</td>\n      <td>0.849</td>\n      <td>0.824</td>\n      <td>-4.610</td>\n      <td>0.0788</td>\n      <td>0.128</td>\n      <td>0.000003</td>\n      <td>0.0867</td>\n      <td>0.785</td>\n      <td>119.001</td>\n    </tr>\n    <tr>\n      <th>444082</th>\n      <td>0gVpWodvUHcvcgVjK26Jga</td>\n      <td>Poker Face</td>\n      <td>3</td>\n      <td>238320</td>\n      <td>0</td>\n      <td>['Lady Gaga']</td>\n      <td>2015-12-11</td>\n      <td>0.850</td>\n      <td>0.784</td>\n      <td>-5.668</td>\n      <td>0.0785</td>\n      <td>0.134</td>\n      <td>0.000003</td>\n      <td>0.0997</td>\n      <td>0.779</td>\n      <td>119.000</td>\n    </tr>\n    <tr>\n      <th>583175</th>\n      <td>70vvnTUamBXOc0vRk7BBDu</td>\n      <td>Poker Face</td>\n      <td>50</td>\n      <td>237200</td>\n      <td>0</td>\n      <td>['Lady Gaga']</td>\n      <td>2009-11-18</td>\n      <td>0.851</td>\n      <td>0.806</td>\n      <td>-4.618</td>\n      <td>0.0788</td>\n      <td>0.120</td>\n      <td>0.000001</td>\n      <td>0.1220</td>\n      <td>0.775</td>\n      <td>119.002</td>\n    </tr>\n  </tbody>\n</table>\n</div>"
     },
     "metadata": {},
     "execution_count": 19
    }
   ],
   "source": [
    "# smaller data frame for testing loops\n",
    "# 8 rows\n",
    "# just 1 song -- but looks like several different versions based on acoustic values\n",
    "poker_face = gaga_df.loc[gaga_df['name'] == 'Poker Face']\n",
    "poker_face"
   ]
  },
  {
   "cell_type": "code",
   "execution_count": null,
   "metadata": {},
   "outputs": [],
   "source": []
  }
 ]
}