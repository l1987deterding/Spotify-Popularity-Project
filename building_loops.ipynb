{
 "metadata": {
  "language_info": {
   "codemirror_mode": {
    "name": "ipython",
    "version": 3
   },
   "file_extension": ".py",
   "mimetype": "text/x-python",
   "name": "python",
   "nbconvert_exporter": "python",
   "pygments_lexer": "ipython3",
   "version": "3.8.5"
  },
  "orig_nbformat": 4,
  "kernelspec": {
   "name": "python3",
   "display_name": "Python 3.8.5 64-bit ('base': conda)"
  },
  "interpreter": {
   "hash": "797aaa517c2851f29685343c41d423cf5c6e3497bc2091e34cd352c6f05b7b6f"
  }
 },
 "nbformat": 4,
 "nbformat_minor": 2,
 "cells": [
  {
   "cell_type": "code",
   "execution_count": 1,
   "metadata": {},
   "outputs": [],
   "source": [
    "%matplotlib inline"
   ]
  },
  {
   "cell_type": "code",
   "execution_count": 2,
   "metadata": {},
   "outputs": [],
   "source": [
    "# Import dependencies\n",
    "import matplotlib.pyplot as plt\n",
    "import pandas as pd\n",
    "import numpy as np\n",
    "import scipy.stats as st\n",
    "from scipy.stats import linregress\n",
    "import os\n",
    "from datetime import datetime as dt "
   ]
  },
  {
   "cell_type": "code",
   "execution_count": 3,
   "metadata": {},
   "outputs": [
    {
     "output_type": "execute_result",
     "data": {
      "text/plain": [
       "                       id                                 name  popularity  \\\n",
       "0  35iwgR4jXetI318WEWsa1Q                                Carve           6   \n",
       "1  021ht4sdgPcrDgSk7JTbKY  Capítulo 2.16 - Banquero Anarquista           0   \n",
       "2  07A5yehtSnoedViJAZkNnc   Vivo para Quererte - Remasterizado           0   \n",
       "3  08FmqUhxtyLTn6pAh6bk45        El Prisionero - Remasterizado           0   \n",
       "4  08y9GfoqCWfOGsKdwojr5e                  Lady of the Evening           0   \n",
       "\n",
       "   duration_ms  explicit              artists                  id_artists  \\\n",
       "0       126903         0              ['Uli']  ['45tIt06XoI0Iio4LBEVpls']   \n",
       "1        98200         0  ['Fernando Pessoa']  ['14jtPCOoNZwquk5wd9DxrY']   \n",
       "2       181640         0  ['Ignacio Corsini']  ['5LiOoJbxVSAMkBS2fUm3X2']   \n",
       "3       176907         0  ['Ignacio Corsini']  ['5LiOoJbxVSAMkBS2fUm3X2']   \n",
       "4       163080         0      ['Dick Haymes']  ['3BiJGZsyX9sJchTqcSA7Su']   \n",
       "\n",
       "  release_date  danceability  energy  key  loudness  mode  speechiness  \\\n",
       "0   1922-02-22         0.645  0.4450    0   -13.338     1       0.4510   \n",
       "1   1922-06-01         0.695  0.2630    0   -22.136     1       0.9570   \n",
       "2   1922-03-21         0.434  0.1770    1   -21.180     1       0.0512   \n",
       "3   1922-03-21         0.321  0.0946    7   -27.961     1       0.0504   \n",
       "4         1922         0.402  0.1580    3   -16.900     0       0.0390   \n",
       "\n",
       "   acousticness  instrumentalness  liveness  valence    tempo  time_signature  \n",
       "0         0.674            0.7440     0.151    0.127  104.851               3  \n",
       "1         0.797            0.0000     0.148    0.655  102.009               1  \n",
       "2         0.994            0.0218     0.212    0.457  130.418               5  \n",
       "3         0.995            0.9180     0.104    0.397  169.980               3  \n",
       "4         0.989            0.1300     0.311    0.196  103.220               4  "
      ],
      "text/html": "<div>\n<style scoped>\n    .dataframe tbody tr th:only-of-type {\n        vertical-align: middle;\n    }\n\n    .dataframe tbody tr th {\n        vertical-align: top;\n    }\n\n    .dataframe thead th {\n        text-align: right;\n    }\n</style>\n<table border=\"1\" class=\"dataframe\">\n  <thead>\n    <tr style=\"text-align: right;\">\n      <th></th>\n      <th>id</th>\n      <th>name</th>\n      <th>popularity</th>\n      <th>duration_ms</th>\n      <th>explicit</th>\n      <th>artists</th>\n      <th>id_artists</th>\n      <th>release_date</th>\n      <th>danceability</th>\n      <th>energy</th>\n      <th>key</th>\n      <th>loudness</th>\n      <th>mode</th>\n      <th>speechiness</th>\n      <th>acousticness</th>\n      <th>instrumentalness</th>\n      <th>liveness</th>\n      <th>valence</th>\n      <th>tempo</th>\n      <th>time_signature</th>\n    </tr>\n  </thead>\n  <tbody>\n    <tr>\n      <th>0</th>\n      <td>35iwgR4jXetI318WEWsa1Q</td>\n      <td>Carve</td>\n      <td>6</td>\n      <td>126903</td>\n      <td>0</td>\n      <td>['Uli']</td>\n      <td>['45tIt06XoI0Iio4LBEVpls']</td>\n      <td>1922-02-22</td>\n      <td>0.645</td>\n      <td>0.4450</td>\n      <td>0</td>\n      <td>-13.338</td>\n      <td>1</td>\n      <td>0.4510</td>\n      <td>0.674</td>\n      <td>0.7440</td>\n      <td>0.151</td>\n      <td>0.127</td>\n      <td>104.851</td>\n      <td>3</td>\n    </tr>\n    <tr>\n      <th>1</th>\n      <td>021ht4sdgPcrDgSk7JTbKY</td>\n      <td>Capítulo 2.16 - Banquero Anarquista</td>\n      <td>0</td>\n      <td>98200</td>\n      <td>0</td>\n      <td>['Fernando Pessoa']</td>\n      <td>['14jtPCOoNZwquk5wd9DxrY']</td>\n      <td>1922-06-01</td>\n      <td>0.695</td>\n      <td>0.2630</td>\n      <td>0</td>\n      <td>-22.136</td>\n      <td>1</td>\n      <td>0.9570</td>\n      <td>0.797</td>\n      <td>0.0000</td>\n      <td>0.148</td>\n      <td>0.655</td>\n      <td>102.009</td>\n      <td>1</td>\n    </tr>\n    <tr>\n      <th>2</th>\n      <td>07A5yehtSnoedViJAZkNnc</td>\n      <td>Vivo para Quererte - Remasterizado</td>\n      <td>0</td>\n      <td>181640</td>\n      <td>0</td>\n      <td>['Ignacio Corsini']</td>\n      <td>['5LiOoJbxVSAMkBS2fUm3X2']</td>\n      <td>1922-03-21</td>\n      <td>0.434</td>\n      <td>0.1770</td>\n      <td>1</td>\n      <td>-21.180</td>\n      <td>1</td>\n      <td>0.0512</td>\n      <td>0.994</td>\n      <td>0.0218</td>\n      <td>0.212</td>\n      <td>0.457</td>\n      <td>130.418</td>\n      <td>5</td>\n    </tr>\n    <tr>\n      <th>3</th>\n      <td>08FmqUhxtyLTn6pAh6bk45</td>\n      <td>El Prisionero - Remasterizado</td>\n      <td>0</td>\n      <td>176907</td>\n      <td>0</td>\n      <td>['Ignacio Corsini']</td>\n      <td>['5LiOoJbxVSAMkBS2fUm3X2']</td>\n      <td>1922-03-21</td>\n      <td>0.321</td>\n      <td>0.0946</td>\n      <td>7</td>\n      <td>-27.961</td>\n      <td>1</td>\n      <td>0.0504</td>\n      <td>0.995</td>\n      <td>0.9180</td>\n      <td>0.104</td>\n      <td>0.397</td>\n      <td>169.980</td>\n      <td>3</td>\n    </tr>\n    <tr>\n      <th>4</th>\n      <td>08y9GfoqCWfOGsKdwojr5e</td>\n      <td>Lady of the Evening</td>\n      <td>0</td>\n      <td>163080</td>\n      <td>0</td>\n      <td>['Dick Haymes']</td>\n      <td>['3BiJGZsyX9sJchTqcSA7Su']</td>\n      <td>1922</td>\n      <td>0.402</td>\n      <td>0.1580</td>\n      <td>3</td>\n      <td>-16.900</td>\n      <td>0</td>\n      <td>0.0390</td>\n      <td>0.989</td>\n      <td>0.1300</td>\n      <td>0.311</td>\n      <td>0.196</td>\n      <td>103.220</td>\n      <td>4</td>\n    </tr>\n  </tbody>\n</table>\n</div>"
     },
     "metadata": {},
     "execution_count": 3
    }
   ],
   "source": [
    "# Load in file -- 586672 tracks\n",
    "file_path = os.path.join(os.getcwd(),'Resources', 'tracks.csv')\n",
    "tracks_df = pd.read_csv(file_path)\n",
    "tracks_df.head()"
   ]
  },
  {
   "cell_type": "code",
   "execution_count": 4,
   "metadata": {},
   "outputs": [],
   "source": [
    "# Clean and format data \n",
    "clean_df = tracks_df[['id', 'name', 'popularity', 'duration_ms', 'explicit', 'artists', 'release_date', 'danceability', 'energy', 'loudness', 'speechiness', 'acousticness', 'instrumentalness', 'liveness', 'valence', 'tempo']]"
   ]
  },
  {
   "source": [
    "# dropping rows with missing values\n",
    "clean_df = clean_df.dropna(how = 'any') # 586601 tracks\n",
    "clean_df.head(10)"
   ],
   "cell_type": "code",
   "metadata": {},
   "execution_count": 5,
   "outputs": [
    {
     "output_type": "execute_result",
     "data": {
      "text/plain": [
       "                       id                                 name  popularity  \\\n",
       "0  35iwgR4jXetI318WEWsa1Q                                Carve           6   \n",
       "1  021ht4sdgPcrDgSk7JTbKY  Capítulo 2.16 - Banquero Anarquista           0   \n",
       "2  07A5yehtSnoedViJAZkNnc   Vivo para Quererte - Remasterizado           0   \n",
       "3  08FmqUhxtyLTn6pAh6bk45        El Prisionero - Remasterizado           0   \n",
       "4  08y9GfoqCWfOGsKdwojr5e                  Lady of the Evening           0   \n",
       "5  0BRXJHRNGQ3W4v9frnSfhu                            Ave Maria           0   \n",
       "6  0Dd9ImXtAtGwsmsAD69KZT                       La Butte Rouge           0   \n",
       "7  0IA0Hju8CAgYfV1hwhidBH                              La Java           0   \n",
       "8  0IgI1UCz84pYeVetnl1lGP                   Old Fashioned Girl           0   \n",
       "9  0JV4iqw2lSKJaHBQZ0e5zK        Martín Fierro - Remasterizado           0   \n",
       "\n",
       "   duration_ms  explicit              artists release_date  danceability  \\\n",
       "0       126903         0              ['Uli']   1922-02-22         0.645   \n",
       "1        98200         0  ['Fernando Pessoa']   1922-06-01         0.695   \n",
       "2       181640         0  ['Ignacio Corsini']   1922-03-21         0.434   \n",
       "3       176907         0  ['Ignacio Corsini']   1922-03-21         0.321   \n",
       "4       163080         0      ['Dick Haymes']         1922         0.402   \n",
       "5       178933         0      ['Dick Haymes']         1922         0.227   \n",
       "6       134467         0    ['Francis Marty']         1922         0.510   \n",
       "7       161427         0      ['Mistinguett']         1922         0.563   \n",
       "8       310073         0      ['Greg Fieler']         1922         0.488   \n",
       "9       181173         0  ['Ignacio Corsini']   1922-03-29         0.548   \n",
       "\n",
       "   energy  loudness  speechiness  acousticness  instrumentalness  liveness  \\\n",
       "0  0.4450   -13.338       0.4510         0.674          0.744000    0.1510   \n",
       "1  0.2630   -22.136       0.9570         0.797          0.000000    0.1480   \n",
       "2  0.1770   -21.180       0.0512         0.994          0.021800    0.2120   \n",
       "3  0.0946   -27.961       0.0504         0.995          0.918000    0.1040   \n",
       "4  0.1580   -16.900       0.0390         0.989          0.130000    0.3110   \n",
       "5  0.2610   -12.343       0.0382         0.994          0.247000    0.0977   \n",
       "6  0.3550   -12.833       0.1240         0.965          0.000000    0.1550   \n",
       "7  0.1840   -13.757       0.0512         0.993          0.000016    0.3250   \n",
       "8  0.4750   -16.222       0.0399         0.620          0.006450    0.1070   \n",
       "9  0.0391   -23.228       0.1530         0.996          0.933000    0.1480   \n",
       "\n",
       "   valence    tempo  \n",
       "0   0.1270  104.851  \n",
       "1   0.6550  102.009  \n",
       "2   0.4570  130.418  \n",
       "3   0.3970  169.980  \n",
       "4   0.1960  103.220  \n",
       "5   0.0539  118.891  \n",
       "6   0.7270   85.754  \n",
       "7   0.6540  133.088  \n",
       "8   0.5440  139.952  \n",
       "9   0.6120   75.595  "
      ],
      "text/html": "<div>\n<style scoped>\n    .dataframe tbody tr th:only-of-type {\n        vertical-align: middle;\n    }\n\n    .dataframe tbody tr th {\n        vertical-align: top;\n    }\n\n    .dataframe thead th {\n        text-align: right;\n    }\n</style>\n<table border=\"1\" class=\"dataframe\">\n  <thead>\n    <tr style=\"text-align: right;\">\n      <th></th>\n      <th>id</th>\n      <th>name</th>\n      <th>popularity</th>\n      <th>duration_ms</th>\n      <th>explicit</th>\n      <th>artists</th>\n      <th>release_date</th>\n      <th>danceability</th>\n      <th>energy</th>\n      <th>loudness</th>\n      <th>speechiness</th>\n      <th>acousticness</th>\n      <th>instrumentalness</th>\n      <th>liveness</th>\n      <th>valence</th>\n      <th>tempo</th>\n    </tr>\n  </thead>\n  <tbody>\n    <tr>\n      <th>0</th>\n      <td>35iwgR4jXetI318WEWsa1Q</td>\n      <td>Carve</td>\n      <td>6</td>\n      <td>126903</td>\n      <td>0</td>\n      <td>['Uli']</td>\n      <td>1922-02-22</td>\n      <td>0.645</td>\n      <td>0.4450</td>\n      <td>-13.338</td>\n      <td>0.4510</td>\n      <td>0.674</td>\n      <td>0.744000</td>\n      <td>0.1510</td>\n      <td>0.1270</td>\n      <td>104.851</td>\n    </tr>\n    <tr>\n      <th>1</th>\n      <td>021ht4sdgPcrDgSk7JTbKY</td>\n      <td>Capítulo 2.16 - Banquero Anarquista</td>\n      <td>0</td>\n      <td>98200</td>\n      <td>0</td>\n      <td>['Fernando Pessoa']</td>\n      <td>1922-06-01</td>\n      <td>0.695</td>\n      <td>0.2630</td>\n      <td>-22.136</td>\n      <td>0.9570</td>\n      <td>0.797</td>\n      <td>0.000000</td>\n      <td>0.1480</td>\n      <td>0.6550</td>\n      <td>102.009</td>\n    </tr>\n    <tr>\n      <th>2</th>\n      <td>07A5yehtSnoedViJAZkNnc</td>\n      <td>Vivo para Quererte - Remasterizado</td>\n      <td>0</td>\n      <td>181640</td>\n      <td>0</td>\n      <td>['Ignacio Corsini']</td>\n      <td>1922-03-21</td>\n      <td>0.434</td>\n      <td>0.1770</td>\n      <td>-21.180</td>\n      <td>0.0512</td>\n      <td>0.994</td>\n      <td>0.021800</td>\n      <td>0.2120</td>\n      <td>0.4570</td>\n      <td>130.418</td>\n    </tr>\n    <tr>\n      <th>3</th>\n      <td>08FmqUhxtyLTn6pAh6bk45</td>\n      <td>El Prisionero - Remasterizado</td>\n      <td>0</td>\n      <td>176907</td>\n      <td>0</td>\n      <td>['Ignacio Corsini']</td>\n      <td>1922-03-21</td>\n      <td>0.321</td>\n      <td>0.0946</td>\n      <td>-27.961</td>\n      <td>0.0504</td>\n      <td>0.995</td>\n      <td>0.918000</td>\n      <td>0.1040</td>\n      <td>0.3970</td>\n      <td>169.980</td>\n    </tr>\n    <tr>\n      <th>4</th>\n      <td>08y9GfoqCWfOGsKdwojr5e</td>\n      <td>Lady of the Evening</td>\n      <td>0</td>\n      <td>163080</td>\n      <td>0</td>\n      <td>['Dick Haymes']</td>\n      <td>1922</td>\n      <td>0.402</td>\n      <td>0.1580</td>\n      <td>-16.900</td>\n      <td>0.0390</td>\n      <td>0.989</td>\n      <td>0.130000</td>\n      <td>0.3110</td>\n      <td>0.1960</td>\n      <td>103.220</td>\n    </tr>\n    <tr>\n      <th>5</th>\n      <td>0BRXJHRNGQ3W4v9frnSfhu</td>\n      <td>Ave Maria</td>\n      <td>0</td>\n      <td>178933</td>\n      <td>0</td>\n      <td>['Dick Haymes']</td>\n      <td>1922</td>\n      <td>0.227</td>\n      <td>0.2610</td>\n      <td>-12.343</td>\n      <td>0.0382</td>\n      <td>0.994</td>\n      <td>0.247000</td>\n      <td>0.0977</td>\n      <td>0.0539</td>\n      <td>118.891</td>\n    </tr>\n    <tr>\n      <th>6</th>\n      <td>0Dd9ImXtAtGwsmsAD69KZT</td>\n      <td>La Butte Rouge</td>\n      <td>0</td>\n      <td>134467</td>\n      <td>0</td>\n      <td>['Francis Marty']</td>\n      <td>1922</td>\n      <td>0.510</td>\n      <td>0.3550</td>\n      <td>-12.833</td>\n      <td>0.1240</td>\n      <td>0.965</td>\n      <td>0.000000</td>\n      <td>0.1550</td>\n      <td>0.7270</td>\n      <td>85.754</td>\n    </tr>\n    <tr>\n      <th>7</th>\n      <td>0IA0Hju8CAgYfV1hwhidBH</td>\n      <td>La Java</td>\n      <td>0</td>\n      <td>161427</td>\n      <td>0</td>\n      <td>['Mistinguett']</td>\n      <td>1922</td>\n      <td>0.563</td>\n      <td>0.1840</td>\n      <td>-13.757</td>\n      <td>0.0512</td>\n      <td>0.993</td>\n      <td>0.000016</td>\n      <td>0.3250</td>\n      <td>0.6540</td>\n      <td>133.088</td>\n    </tr>\n    <tr>\n      <th>8</th>\n      <td>0IgI1UCz84pYeVetnl1lGP</td>\n      <td>Old Fashioned Girl</td>\n      <td>0</td>\n      <td>310073</td>\n      <td>0</td>\n      <td>['Greg Fieler']</td>\n      <td>1922</td>\n      <td>0.488</td>\n      <td>0.4750</td>\n      <td>-16.222</td>\n      <td>0.0399</td>\n      <td>0.620</td>\n      <td>0.006450</td>\n      <td>0.1070</td>\n      <td>0.5440</td>\n      <td>139.952</td>\n    </tr>\n    <tr>\n      <th>9</th>\n      <td>0JV4iqw2lSKJaHBQZ0e5zK</td>\n      <td>Martín Fierro - Remasterizado</td>\n      <td>0</td>\n      <td>181173</td>\n      <td>0</td>\n      <td>['Ignacio Corsini']</td>\n      <td>1922-03-29</td>\n      <td>0.548</td>\n      <td>0.0391</td>\n      <td>-23.228</td>\n      <td>0.1530</td>\n      <td>0.996</td>\n      <td>0.933000</td>\n      <td>0.1480</td>\n      <td>0.6120</td>\n      <td>75.595</td>\n    </tr>\n  </tbody>\n</table>\n</div>"
     },
     "metadata": {},
     "execution_count": 5
    }
   ]
  },
  {
   "cell_type": "code",
   "execution_count": 6,
   "metadata": {},
   "outputs": [
    {
     "output_type": "stream",
     "name": "stdout",
     "text": [
      "Number of lines in current set = 586601 \n The number of unique song titles = 446474 \n The number of artists = 114029\n\n Possible duplicates = 140127, which is 23.89%. Because different artists have songs with the same titles, the actual percentage of duplicates is less than this.\n"
     ]
    }
   ],
   "source": [
    "## Looking at tracks, unique titles, artists, & trying to determine possible duplicates\n",
    "total_tracks = len(clean_df)\n",
    "unique_songs = clean_df['name'].nunique()\n",
    "unique_artists = clean_df['artists'].nunique()\n",
    "pos_dupes = total_tracks - unique_songs\n",
    "print(f\"Number of lines in current set = {total_tracks} \\n The number of unique song titles = {unique_songs} \\n The number of artists = {unique_artists}\")\n",
    "print(f\"\\n Possible duplicates = {pos_dupes}, which is {round(pos_dupes/total_tracks*100,2)}%. Because different artists have songs with the same titles, the actual percentage of duplicates is less than this.\")"
   ]
  },
  {
   "cell_type": "code",
   "execution_count": 64,
   "metadata": {},
   "outputs": [
    {
     "output_type": "execute_result",
     "data": {
      "text/plain": [
       "   index                      id                                         name  \\\n",
       "0    207  3DzcB6weYL3L7oRNmsJCaV                          No One Else But You   \n",
       "1    491  41RLkvyELWv5ydLwQ6FsLu             You Always Hurt the One You Love   \n",
       "2    999  5hGmr6KQWzcCGdTYxf4P4S              Stompin' at the Savoy - Mix One   \n",
       "3   1520  3lZDXtwP8CdwuSO2PPJfaX                     One Night In Monte Carlo   \n",
       "4   1558  4IYXV4qfys6ybXI5FhjTko                          No One Else But You   \n",
       "5   1658  5YOdjn1A3ezJfYT8Wa06zh                          No One Else But You   \n",
       "6   1785  6zlJdSFWE8GMs46gXzTOkf                          No One Else But You   \n",
       "7   2795  6TV9XorVkeDwjyaQCf7xhd                                     Dear One   \n",
       "8   3956  7oDm0X9r6FDGwHv0VsLH4p                          No One Else But You   \n",
       "9   4283  29l7bGW6qVoPqm0X9VZsjF  A Shropshire Lad: When I was One-and-Twenty   \n",
       "\n",
       "   popularity  duration_ms  explicit  \\\n",
       "0           6       201267         0   \n",
       "1           0       209058         0   \n",
       "2           0       192680         0   \n",
       "3           4       182933         0   \n",
       "4           2       200067         0   \n",
       "5           0       200067         0   \n",
       "6           0       200067         0   \n",
       "7           0       176027         0   \n",
       "8           9       200333         0   \n",
       "9           0        90000         0   \n",
       "\n",
       "                                             artists release_date  \\\n",
       "0      ['Louis Armstrong & His Savoy Ballroom Five']         1923   \n",
       "1                                   ['Harry Curtis']         1923   \n",
       "2                       ['Lionel Hampton Orchestra']         1924   \n",
       "3              ['Tommy Dorsey & His Clambake Seven']         1925   \n",
       "4  ['Louis Armstrong & His Hot Seven', 'Carroll D...         1925   \n",
       "5  ['Louis Armstrong Hot Seven sic - Big Band;Car...         1925   \n",
       "6  ['Louis Armstrong & His Hot Seven', 'Carroll D...         1925   \n",
       "7                      ['Ted Weems & His Orchestra']   1926-07-01   \n",
       "8  ['Louis Armstrong & His Hot Seven', 'Carroll D...         1928   \n",
       "9             ['George Butterworth', 'John Cameron']         1928   \n",
       "\n",
       "   danceability  energy  loudness  speechiness  acousticness  \\\n",
       "0         0.496  0.3110   -11.202       0.1240         0.923   \n",
       "1         0.475  0.2940   -12.168       0.0381         0.880   \n",
       "2         0.742  0.8050    -5.123       0.0360         0.919   \n",
       "3         0.796  0.3410   -13.195       0.0567         0.970   \n",
       "4         0.531  0.2910   -11.169       0.1100         0.976   \n",
       "5         0.531  0.2910   -11.169       0.1100         0.976   \n",
       "6         0.531  0.2910   -11.169       0.1100         0.976   \n",
       "7         0.692  0.1770   -12.051       0.0399         0.993   \n",
       "8         0.531  0.3190   -10.174       0.1200         0.974   \n",
       "9         0.391  0.0341   -22.964       0.0510         0.993   \n",
       "\n",
       "   instrumentalness  liveness  valence    tempo  \n",
       "0           0.01270    0.2520    0.718  191.035  \n",
       "1           0.00000    0.1090    0.236  126.301  \n",
       "2           0.57800    0.2590    0.840  112.840  \n",
       "3           0.03130    0.2150    0.946  117.325  \n",
       "4           0.03920    0.2550    0.848  192.062  \n",
       "5           0.03920    0.2550    0.848  192.062  \n",
       "6           0.03920    0.2550    0.848  192.047  \n",
       "7           0.00164    0.0805    0.451  107.099  \n",
       "8           0.02440    0.2750    0.837  191.732  \n",
       "9           0.00000    0.3450    0.186   83.791  "
      ],
      "text/html": "<div>\n<style scoped>\n    .dataframe tbody tr th:only-of-type {\n        vertical-align: middle;\n    }\n\n    .dataframe tbody tr th {\n        vertical-align: top;\n    }\n\n    .dataframe thead th {\n        text-align: right;\n    }\n</style>\n<table border=\"1\" class=\"dataframe\">\n  <thead>\n    <tr style=\"text-align: right;\">\n      <th></th>\n      <th>index</th>\n      <th>id</th>\n      <th>name</th>\n      <th>popularity</th>\n      <th>duration_ms</th>\n      <th>explicit</th>\n      <th>artists</th>\n      <th>release_date</th>\n      <th>danceability</th>\n      <th>energy</th>\n      <th>loudness</th>\n      <th>speechiness</th>\n      <th>acousticness</th>\n      <th>instrumentalness</th>\n      <th>liveness</th>\n      <th>valence</th>\n      <th>tempo</th>\n    </tr>\n  </thead>\n  <tbody>\n    <tr>\n      <th>0</th>\n      <td>207</td>\n      <td>3DzcB6weYL3L7oRNmsJCaV</td>\n      <td>No One Else But You</td>\n      <td>6</td>\n      <td>201267</td>\n      <td>0</td>\n      <td>['Louis Armstrong &amp; His Savoy Ballroom Five']</td>\n      <td>1923</td>\n      <td>0.496</td>\n      <td>0.3110</td>\n      <td>-11.202</td>\n      <td>0.1240</td>\n      <td>0.923</td>\n      <td>0.01270</td>\n      <td>0.2520</td>\n      <td>0.718</td>\n      <td>191.035</td>\n    </tr>\n    <tr>\n      <th>1</th>\n      <td>491</td>\n      <td>41RLkvyELWv5ydLwQ6FsLu</td>\n      <td>You Always Hurt the One You Love</td>\n      <td>0</td>\n      <td>209058</td>\n      <td>0</td>\n      <td>['Harry Curtis']</td>\n      <td>1923</td>\n      <td>0.475</td>\n      <td>0.2940</td>\n      <td>-12.168</td>\n      <td>0.0381</td>\n      <td>0.880</td>\n      <td>0.00000</td>\n      <td>0.1090</td>\n      <td>0.236</td>\n      <td>126.301</td>\n    </tr>\n    <tr>\n      <th>2</th>\n      <td>999</td>\n      <td>5hGmr6KQWzcCGdTYxf4P4S</td>\n      <td>Stompin' at the Savoy - Mix One</td>\n      <td>0</td>\n      <td>192680</td>\n      <td>0</td>\n      <td>['Lionel Hampton Orchestra']</td>\n      <td>1924</td>\n      <td>0.742</td>\n      <td>0.8050</td>\n      <td>-5.123</td>\n      <td>0.0360</td>\n      <td>0.919</td>\n      <td>0.57800</td>\n      <td>0.2590</td>\n      <td>0.840</td>\n      <td>112.840</td>\n    </tr>\n    <tr>\n      <th>3</th>\n      <td>1520</td>\n      <td>3lZDXtwP8CdwuSO2PPJfaX</td>\n      <td>One Night In Monte Carlo</td>\n      <td>4</td>\n      <td>182933</td>\n      <td>0</td>\n      <td>['Tommy Dorsey &amp; His Clambake Seven']</td>\n      <td>1925</td>\n      <td>0.796</td>\n      <td>0.3410</td>\n      <td>-13.195</td>\n      <td>0.0567</td>\n      <td>0.970</td>\n      <td>0.03130</td>\n      <td>0.2150</td>\n      <td>0.946</td>\n      <td>117.325</td>\n    </tr>\n    <tr>\n      <th>4</th>\n      <td>1558</td>\n      <td>4IYXV4qfys6ybXI5FhjTko</td>\n      <td>No One Else But You</td>\n      <td>2</td>\n      <td>200067</td>\n      <td>0</td>\n      <td>['Louis Armstrong &amp; His Hot Seven', 'Carroll D...</td>\n      <td>1925</td>\n      <td>0.531</td>\n      <td>0.2910</td>\n      <td>-11.169</td>\n      <td>0.1100</td>\n      <td>0.976</td>\n      <td>0.03920</td>\n      <td>0.2550</td>\n      <td>0.848</td>\n      <td>192.062</td>\n    </tr>\n    <tr>\n      <th>5</th>\n      <td>1658</td>\n      <td>5YOdjn1A3ezJfYT8Wa06zh</td>\n      <td>No One Else But You</td>\n      <td>0</td>\n      <td>200067</td>\n      <td>0</td>\n      <td>['Louis Armstrong Hot Seven sic - Big Band;Car...</td>\n      <td>1925</td>\n      <td>0.531</td>\n      <td>0.2910</td>\n      <td>-11.169</td>\n      <td>0.1100</td>\n      <td>0.976</td>\n      <td>0.03920</td>\n      <td>0.2550</td>\n      <td>0.848</td>\n      <td>192.062</td>\n    </tr>\n    <tr>\n      <th>6</th>\n      <td>1785</td>\n      <td>6zlJdSFWE8GMs46gXzTOkf</td>\n      <td>No One Else But You</td>\n      <td>0</td>\n      <td>200067</td>\n      <td>0</td>\n      <td>['Louis Armstrong &amp; His Hot Seven', 'Carroll D...</td>\n      <td>1925</td>\n      <td>0.531</td>\n      <td>0.2910</td>\n      <td>-11.169</td>\n      <td>0.1100</td>\n      <td>0.976</td>\n      <td>0.03920</td>\n      <td>0.2550</td>\n      <td>0.848</td>\n      <td>192.047</td>\n    </tr>\n    <tr>\n      <th>7</th>\n      <td>2795</td>\n      <td>6TV9XorVkeDwjyaQCf7xhd</td>\n      <td>Dear One</td>\n      <td>0</td>\n      <td>176027</td>\n      <td>0</td>\n      <td>['Ted Weems &amp; His Orchestra']</td>\n      <td>1926-07-01</td>\n      <td>0.692</td>\n      <td>0.1770</td>\n      <td>-12.051</td>\n      <td>0.0399</td>\n      <td>0.993</td>\n      <td>0.00164</td>\n      <td>0.0805</td>\n      <td>0.451</td>\n      <td>107.099</td>\n    </tr>\n    <tr>\n      <th>8</th>\n      <td>3956</td>\n      <td>7oDm0X9r6FDGwHv0VsLH4p</td>\n      <td>No One Else But You</td>\n      <td>9</td>\n      <td>200333</td>\n      <td>0</td>\n      <td>['Louis Armstrong &amp; His Hot Seven', 'Carroll D...</td>\n      <td>1928</td>\n      <td>0.531</td>\n      <td>0.3190</td>\n      <td>-10.174</td>\n      <td>0.1200</td>\n      <td>0.974</td>\n      <td>0.02440</td>\n      <td>0.2750</td>\n      <td>0.837</td>\n      <td>191.732</td>\n    </tr>\n    <tr>\n      <th>9</th>\n      <td>4283</td>\n      <td>29l7bGW6qVoPqm0X9VZsjF</td>\n      <td>A Shropshire Lad: When I was One-and-Twenty</td>\n      <td>0</td>\n      <td>90000</td>\n      <td>0</td>\n      <td>['George Butterworth', 'John Cameron']</td>\n      <td>1928</td>\n      <td>0.391</td>\n      <td>0.0341</td>\n      <td>-22.964</td>\n      <td>0.0510</td>\n      <td>0.993</td>\n      <td>0.00000</td>\n      <td>0.3450</td>\n      <td>0.186</td>\n      <td>83.791</td>\n    </tr>\n  </tbody>\n</table>\n</div>"
     },
     "metadata": {},
     "execution_count": 64
    }
   ],
   "source": [
    "# smaller dataframe that might help figure out loops \n",
    "# 2962 rows\n",
    "# different artists & different song titles -- but should have duplicates of both\n",
    "contains_one_df = clean_df.loc[clean_df['name'].str.contains('One')].reset_index()\n",
    "contains_one_df.head(10)"
   ]
  },
  {
   "cell_type": "code",
   "execution_count": 65,
   "metadata": {},
   "outputs": [
    {
     "output_type": "execute_result",
     "data": {
      "text/plain": [
       "       index                      id  \\\n",
       "0        207  3DzcB6weYL3L7oRNmsJCaV   \n",
       "1        491  41RLkvyELWv5ydLwQ6FsLu   \n",
       "2        999  5hGmr6KQWzcCGdTYxf4P4S   \n",
       "3       1520  3lZDXtwP8CdwuSO2PPJfaX   \n",
       "4       1558  4IYXV4qfys6ybXI5FhjTko   \n",
       "...      ...                     ...   \n",
       "2957  586139  204anQrlLm8N1CNjzJlXSs   \n",
       "2958  586414  2tSPS5dRintqVulKAKni2T   \n",
       "2959  586469  3hW0KHABBsresOUik93KF6   \n",
       "2960  586514  2iSfhXTXCTXthD0ci36yhS   \n",
       "2961  586567  7evFdDqiQUkRlo5yICNeIW   \n",
       "\n",
       "                                                   name  popularity  \\\n",
       "0                                   No One Else But You           6   \n",
       "1                      You Always Hurt the One You Love           0   \n",
       "2                       Stompin' at the Savoy - Mix One           0   \n",
       "3                              One Night In Monte Carlo           4   \n",
       "4                                   No One Else But You           2   \n",
       "...                                                 ...         ...   \n",
       "2957                                          One Voice          25   \n",
       "2958                                     One (feat. 지선)          42   \n",
       "2959                           One, Two, Buckle My Shoe          49   \n",
       "2960  Fifth Sunday of Lent, Year C: Has No One Conde...           1   \n",
       "2961                                      One Singapore          13   \n",
       "\n",
       "      duration_ms  explicit  \\\n",
       "0          201267         0   \n",
       "1          209058         0   \n",
       "2          192680         0   \n",
       "3          182933         0   \n",
       "4          200067         0   \n",
       "...           ...       ...   \n",
       "2957       353933         0   \n",
       "2958       230320         0   \n",
       "2959        33333         0   \n",
       "2960        37333         0   \n",
       "2961       236773         0   \n",
       "\n",
       "                                                artists release_date  \\\n",
       "0         ['Louis Armstrong & His Savoy Ballroom Five']         1923   \n",
       "1                                      ['Harry Curtis']         1923   \n",
       "2                          ['Lionel Hampton Orchestra']         1924   \n",
       "3                 ['Tommy Dorsey & His Clambake Seven']         1925   \n",
       "4     ['Louis Armstrong & His Hot Seven', 'Carroll D...         1925   \n",
       "...                                                 ...          ...   \n",
       "2957    ['Marty Nystrom', \"Integrity's Hosanna! Music\"]         1993   \n",
       "2958                                ['Epik High', '지선']   2008-04-17   \n",
       "2959                              ['Mother Goose Club']   2011-04-29   \n",
       "2960                             ['Christopher Walker']   2014-05-01   \n",
       "2961                            ['Sing A Nation Choir']   2015-07-31   \n",
       "\n",
       "      danceability  energy  loudness  speechiness  acousticness  \\\n",
       "0            0.496  0.3110   -11.202       0.1240        0.9230   \n",
       "1            0.475  0.2940   -12.168       0.0381        0.8800   \n",
       "2            0.742  0.8050    -5.123       0.0360        0.9190   \n",
       "3            0.796  0.3410   -13.195       0.0567        0.9700   \n",
       "4            0.531  0.2910   -11.169       0.1100        0.9760   \n",
       "...            ...     ...       ...          ...           ...   \n",
       "2957         0.363  0.2230   -14.234       0.0322        0.6710   \n",
       "2958         0.742  0.7830    -4.294       0.0368        0.0765   \n",
       "2959         0.912  0.5730   -11.185       0.0936        0.0152   \n",
       "2960         0.217  0.0192   -26.233       0.0503        0.9850   \n",
       "2961         0.550  0.9210    -4.821       0.2740        0.1380   \n",
       "\n",
       "      instrumentalness  liveness  valence    tempo  year  \n",
       "0             0.012700    0.2520   0.7180  191.035  1923  \n",
       "1             0.000000    0.1090   0.2360  126.301  1923  \n",
       "2             0.578000    0.2590   0.8400  112.840  1924  \n",
       "3             0.031300    0.2150   0.9460  117.325  1925  \n",
       "4             0.039200    0.2550   0.8480  192.062  1925  \n",
       "...                ...       ...      ...      ...   ...  \n",
       "2957          0.000000    0.3550   0.1500  130.265  1993  \n",
       "2958          0.000104    0.0558   0.5940  135.020  2008  \n",
       "2959          0.000000    0.0715   0.9640   99.972  2011  \n",
       "2960          0.018700    0.2250   0.0376  102.292  2014  \n",
       "2961          0.000000    0.1520   0.6250  131.896  2015  \n",
       "\n",
       "[2962 rows x 18 columns]"
      ],
      "text/html": "<div>\n<style scoped>\n    .dataframe tbody tr th:only-of-type {\n        vertical-align: middle;\n    }\n\n    .dataframe tbody tr th {\n        vertical-align: top;\n    }\n\n    .dataframe thead th {\n        text-align: right;\n    }\n</style>\n<table border=\"1\" class=\"dataframe\">\n  <thead>\n    <tr style=\"text-align: right;\">\n      <th></th>\n      <th>index</th>\n      <th>id</th>\n      <th>name</th>\n      <th>popularity</th>\n      <th>duration_ms</th>\n      <th>explicit</th>\n      <th>artists</th>\n      <th>release_date</th>\n      <th>danceability</th>\n      <th>energy</th>\n      <th>loudness</th>\n      <th>speechiness</th>\n      <th>acousticness</th>\n      <th>instrumentalness</th>\n      <th>liveness</th>\n      <th>valence</th>\n      <th>tempo</th>\n      <th>year</th>\n    </tr>\n  </thead>\n  <tbody>\n    <tr>\n      <th>0</th>\n      <td>207</td>\n      <td>3DzcB6weYL3L7oRNmsJCaV</td>\n      <td>No One Else But You</td>\n      <td>6</td>\n      <td>201267</td>\n      <td>0</td>\n      <td>['Louis Armstrong &amp; His Savoy Ballroom Five']</td>\n      <td>1923</td>\n      <td>0.496</td>\n      <td>0.3110</td>\n      <td>-11.202</td>\n      <td>0.1240</td>\n      <td>0.9230</td>\n      <td>0.012700</td>\n      <td>0.2520</td>\n      <td>0.7180</td>\n      <td>191.035</td>\n      <td>1923</td>\n    </tr>\n    <tr>\n      <th>1</th>\n      <td>491</td>\n      <td>41RLkvyELWv5ydLwQ6FsLu</td>\n      <td>You Always Hurt the One You Love</td>\n      <td>0</td>\n      <td>209058</td>\n      <td>0</td>\n      <td>['Harry Curtis']</td>\n      <td>1923</td>\n      <td>0.475</td>\n      <td>0.2940</td>\n      <td>-12.168</td>\n      <td>0.0381</td>\n      <td>0.8800</td>\n      <td>0.000000</td>\n      <td>0.1090</td>\n      <td>0.2360</td>\n      <td>126.301</td>\n      <td>1923</td>\n    </tr>\n    <tr>\n      <th>2</th>\n      <td>999</td>\n      <td>5hGmr6KQWzcCGdTYxf4P4S</td>\n      <td>Stompin' at the Savoy - Mix One</td>\n      <td>0</td>\n      <td>192680</td>\n      <td>0</td>\n      <td>['Lionel Hampton Orchestra']</td>\n      <td>1924</td>\n      <td>0.742</td>\n      <td>0.8050</td>\n      <td>-5.123</td>\n      <td>0.0360</td>\n      <td>0.9190</td>\n      <td>0.578000</td>\n      <td>0.2590</td>\n      <td>0.8400</td>\n      <td>112.840</td>\n      <td>1924</td>\n    </tr>\n    <tr>\n      <th>3</th>\n      <td>1520</td>\n      <td>3lZDXtwP8CdwuSO2PPJfaX</td>\n      <td>One Night In Monte Carlo</td>\n      <td>4</td>\n      <td>182933</td>\n      <td>0</td>\n      <td>['Tommy Dorsey &amp; His Clambake Seven']</td>\n      <td>1925</td>\n      <td>0.796</td>\n      <td>0.3410</td>\n      <td>-13.195</td>\n      <td>0.0567</td>\n      <td>0.9700</td>\n      <td>0.031300</td>\n      <td>0.2150</td>\n      <td>0.9460</td>\n      <td>117.325</td>\n      <td>1925</td>\n    </tr>\n    <tr>\n      <th>4</th>\n      <td>1558</td>\n      <td>4IYXV4qfys6ybXI5FhjTko</td>\n      <td>No One Else But You</td>\n      <td>2</td>\n      <td>200067</td>\n      <td>0</td>\n      <td>['Louis Armstrong &amp; His Hot Seven', 'Carroll D...</td>\n      <td>1925</td>\n      <td>0.531</td>\n      <td>0.2910</td>\n      <td>-11.169</td>\n      <td>0.1100</td>\n      <td>0.9760</td>\n      <td>0.039200</td>\n      <td>0.2550</td>\n      <td>0.8480</td>\n      <td>192.062</td>\n      <td>1925</td>\n    </tr>\n    <tr>\n      <th>...</th>\n      <td>...</td>\n      <td>...</td>\n      <td>...</td>\n      <td>...</td>\n      <td>...</td>\n      <td>...</td>\n      <td>...</td>\n      <td>...</td>\n      <td>...</td>\n      <td>...</td>\n      <td>...</td>\n      <td>...</td>\n      <td>...</td>\n      <td>...</td>\n      <td>...</td>\n      <td>...</td>\n      <td>...</td>\n      <td>...</td>\n    </tr>\n    <tr>\n      <th>2957</th>\n      <td>586139</td>\n      <td>204anQrlLm8N1CNjzJlXSs</td>\n      <td>One Voice</td>\n      <td>25</td>\n      <td>353933</td>\n      <td>0</td>\n      <td>['Marty Nystrom', \"Integrity's Hosanna! Music\"]</td>\n      <td>1993</td>\n      <td>0.363</td>\n      <td>0.2230</td>\n      <td>-14.234</td>\n      <td>0.0322</td>\n      <td>0.6710</td>\n      <td>0.000000</td>\n      <td>0.3550</td>\n      <td>0.1500</td>\n      <td>130.265</td>\n      <td>1993</td>\n    </tr>\n    <tr>\n      <th>2958</th>\n      <td>586414</td>\n      <td>2tSPS5dRintqVulKAKni2T</td>\n      <td>One (feat. 지선)</td>\n      <td>42</td>\n      <td>230320</td>\n      <td>0</td>\n      <td>['Epik High', '지선']</td>\n      <td>2008-04-17</td>\n      <td>0.742</td>\n      <td>0.7830</td>\n      <td>-4.294</td>\n      <td>0.0368</td>\n      <td>0.0765</td>\n      <td>0.000104</td>\n      <td>0.0558</td>\n      <td>0.5940</td>\n      <td>135.020</td>\n      <td>2008</td>\n    </tr>\n    <tr>\n      <th>2959</th>\n      <td>586469</td>\n      <td>3hW0KHABBsresOUik93KF6</td>\n      <td>One, Two, Buckle My Shoe</td>\n      <td>49</td>\n      <td>33333</td>\n      <td>0</td>\n      <td>['Mother Goose Club']</td>\n      <td>2011-04-29</td>\n      <td>0.912</td>\n      <td>0.5730</td>\n      <td>-11.185</td>\n      <td>0.0936</td>\n      <td>0.0152</td>\n      <td>0.000000</td>\n      <td>0.0715</td>\n      <td>0.9640</td>\n      <td>99.972</td>\n      <td>2011</td>\n    </tr>\n    <tr>\n      <th>2960</th>\n      <td>586514</td>\n      <td>2iSfhXTXCTXthD0ci36yhS</td>\n      <td>Fifth Sunday of Lent, Year C: Has No One Conde...</td>\n      <td>1</td>\n      <td>37333</td>\n      <td>0</td>\n      <td>['Christopher Walker']</td>\n      <td>2014-05-01</td>\n      <td>0.217</td>\n      <td>0.0192</td>\n      <td>-26.233</td>\n      <td>0.0503</td>\n      <td>0.9850</td>\n      <td>0.018700</td>\n      <td>0.2250</td>\n      <td>0.0376</td>\n      <td>102.292</td>\n      <td>2014</td>\n    </tr>\n    <tr>\n      <th>2961</th>\n      <td>586567</td>\n      <td>7evFdDqiQUkRlo5yICNeIW</td>\n      <td>One Singapore</td>\n      <td>13</td>\n      <td>236773</td>\n      <td>0</td>\n      <td>['Sing A Nation Choir']</td>\n      <td>2015-07-31</td>\n      <td>0.550</td>\n      <td>0.9210</td>\n      <td>-4.821</td>\n      <td>0.2740</td>\n      <td>0.1380</td>\n      <td>0.000000</td>\n      <td>0.1520</td>\n      <td>0.6250</td>\n      <td>131.896</td>\n      <td>2015</td>\n    </tr>\n  </tbody>\n</table>\n<p>2962 rows × 18 columns</p>\n</div>"
     },
     "metadata": {},
     "execution_count": 65
    }
   ],
   "source": [
    "# converting release_date to year & adding column for year\n",
    "contains_one_df['year'] = pd.DatetimeIndex(contains_one_df['release_date']).year\n",
    "contains_one_df"
   ]
  },
  {
   "cell_type": "code",
   "execution_count": null,
   "metadata": {},
   "outputs": [],
   "source": []
  },
  {
   "cell_type": "code",
   "execution_count": 8,
   "metadata": {},
   "outputs": [
    {
     "output_type": "execute_result",
     "data": {
      "text/plain": [
       "      index                      id  \\\n",
       "0     53586  0T702y9ndzZTnPq1bqiAM2   \n",
       "1     53947  7dni8dPFeedwSTX8hqcC3s   \n",
       "2     54306  37r50D42oXhzxtH3VyBzJX   \n",
       "3     54360  3OZG87f4TFHCt0t9VStdH0   \n",
       "4     54380  3w6Ml5q6dZ1WVcwHIa0JyI   \n",
       "..      ...                     ...   \n",
       "285  549402  6AKfPkyy8yTfQKU48TuoMW   \n",
       "286  549506  6abwt2tM2wEwS1HPTFwNsr   \n",
       "287  549514  6aaKZMKFmxKbBJNjSW59O2   \n",
       "288  549632  05lBOiUnCwQaulWFMflvHT   \n",
       "289  563986  072hgfYnUYgdAqdFMazCzN   \n",
       "\n",
       "                                                  name  popularity  \\\n",
       "0                      I Will Follow - Remastered 2008          59   \n",
       "1                     Out Of Control - Remastered 2008          47   \n",
       "2                   Stories For Boys - Remastered 2008          40   \n",
       "3                      I Will Follow - Remastered 2008          40   \n",
       "4                           Twilight - Remastered 2008          39   \n",
       "..                                                 ...         ...   \n",
       "285                                     Sweetest Thing          25   \n",
       "286                                   In God's Country          16   \n",
       "287                                Bullet The Blue Sky          15   \n",
       "288                             Running To Stand Still          11   \n",
       "289  Two Hearts Beat As One - Club Version - Steve ...          23   \n",
       "\n",
       "     duration_ms  explicit artists release_date  danceability  energy  \\\n",
       "0         217387         0  ['U2']   1980-10-20         0.360   0.909   \n",
       "1         254040         0  ['U2']   1980-10-20         0.208   0.878   \n",
       "2         182427         0  ['U2']   1980-10-20         0.228   0.905   \n",
       "3         217387         0  ['U2']   1980-10-20         0.360   0.909   \n",
       "4         262453         0  ['U2']   1980-10-20         0.377   0.776   \n",
       "..           ...       ...     ...          ...           ...     ...   \n",
       "285       184543         0  ['U2']   1987-03-03         0.524   0.641   \n",
       "286       176597         0  ['U2']   1987-03-03         0.497   0.704   \n",
       "287       271547         0  ['U2']   1987-03-03         0.364   0.638   \n",
       "288       257366         0  ['U2']   1987-03-03         0.537   0.199   \n",
       "289       342800         0  ['U2']   1983-02-28         0.615   0.905   \n",
       "\n",
       "     loudness  speechiness  acousticness  instrumentalness  liveness  valence  \\\n",
       "0      -6.827       0.0663      0.000347          0.000033    0.2820    0.647   \n",
       "1      -8.731       0.1300      0.000378          0.012000    0.0935    0.401   \n",
       "2      -7.047       0.0575      0.031900          0.000014    0.1130    0.423   \n",
       "3      -6.827       0.0663      0.000347          0.000033    0.2820    0.647   \n",
       "4      -8.707       0.0355      0.004100          0.267000    0.1090    0.419   \n",
       "..        ...          ...           ...               ...       ...      ...   \n",
       "285    -8.967       0.0497      0.043700          0.000028    0.1590    0.482   \n",
       "286    -8.085       0.0324      0.007100          0.000067    0.7830    0.607   \n",
       "287   -10.240       0.0441      0.007350          0.399000    0.1330    0.451   \n",
       "288   -18.726       0.0287      0.861000          0.025900    0.3340    0.229   \n",
       "289    -7.424       0.0342      0.001790          0.043500    0.0358    0.879   \n",
       "\n",
       "       tempo  \n",
       "0    155.293  \n",
       "1    155.162  \n",
       "2    155.180  \n",
       "3    155.293  \n",
       "4    141.168  \n",
       "..       ...  \n",
       "285  141.650  \n",
       "286  125.919  \n",
       "287  152.509  \n",
       "288   94.634  \n",
       "289  141.644  \n",
       "\n",
       "[290 rows x 17 columns]"
      ],
      "text/html": "<div>\n<style scoped>\n    .dataframe tbody tr th:only-of-type {\n        vertical-align: middle;\n    }\n\n    .dataframe tbody tr th {\n        vertical-align: top;\n    }\n\n    .dataframe thead th {\n        text-align: right;\n    }\n</style>\n<table border=\"1\" class=\"dataframe\">\n  <thead>\n    <tr style=\"text-align: right;\">\n      <th></th>\n      <th>index</th>\n      <th>id</th>\n      <th>name</th>\n      <th>popularity</th>\n      <th>duration_ms</th>\n      <th>explicit</th>\n      <th>artists</th>\n      <th>release_date</th>\n      <th>danceability</th>\n      <th>energy</th>\n      <th>loudness</th>\n      <th>speechiness</th>\n      <th>acousticness</th>\n      <th>instrumentalness</th>\n      <th>liveness</th>\n      <th>valence</th>\n      <th>tempo</th>\n    </tr>\n  </thead>\n  <tbody>\n    <tr>\n      <th>0</th>\n      <td>53586</td>\n      <td>0T702y9ndzZTnPq1bqiAM2</td>\n      <td>I Will Follow - Remastered 2008</td>\n      <td>59</td>\n      <td>217387</td>\n      <td>0</td>\n      <td>['U2']</td>\n      <td>1980-10-20</td>\n      <td>0.360</td>\n      <td>0.909</td>\n      <td>-6.827</td>\n      <td>0.0663</td>\n      <td>0.000347</td>\n      <td>0.000033</td>\n      <td>0.2820</td>\n      <td>0.647</td>\n      <td>155.293</td>\n    </tr>\n    <tr>\n      <th>1</th>\n      <td>53947</td>\n      <td>7dni8dPFeedwSTX8hqcC3s</td>\n      <td>Out Of Control - Remastered 2008</td>\n      <td>47</td>\n      <td>254040</td>\n      <td>0</td>\n      <td>['U2']</td>\n      <td>1980-10-20</td>\n      <td>0.208</td>\n      <td>0.878</td>\n      <td>-8.731</td>\n      <td>0.1300</td>\n      <td>0.000378</td>\n      <td>0.012000</td>\n      <td>0.0935</td>\n      <td>0.401</td>\n      <td>155.162</td>\n    </tr>\n    <tr>\n      <th>2</th>\n      <td>54306</td>\n      <td>37r50D42oXhzxtH3VyBzJX</td>\n      <td>Stories For Boys - Remastered 2008</td>\n      <td>40</td>\n      <td>182427</td>\n      <td>0</td>\n      <td>['U2']</td>\n      <td>1980-10-20</td>\n      <td>0.228</td>\n      <td>0.905</td>\n      <td>-7.047</td>\n      <td>0.0575</td>\n      <td>0.031900</td>\n      <td>0.000014</td>\n      <td>0.1130</td>\n      <td>0.423</td>\n      <td>155.180</td>\n    </tr>\n    <tr>\n      <th>3</th>\n      <td>54360</td>\n      <td>3OZG87f4TFHCt0t9VStdH0</td>\n      <td>I Will Follow - Remastered 2008</td>\n      <td>40</td>\n      <td>217387</td>\n      <td>0</td>\n      <td>['U2']</td>\n      <td>1980-10-20</td>\n      <td>0.360</td>\n      <td>0.909</td>\n      <td>-6.827</td>\n      <td>0.0663</td>\n      <td>0.000347</td>\n      <td>0.000033</td>\n      <td>0.2820</td>\n      <td>0.647</td>\n      <td>155.293</td>\n    </tr>\n    <tr>\n      <th>4</th>\n      <td>54380</td>\n      <td>3w6Ml5q6dZ1WVcwHIa0JyI</td>\n      <td>Twilight - Remastered 2008</td>\n      <td>39</td>\n      <td>262453</td>\n      <td>0</td>\n      <td>['U2']</td>\n      <td>1980-10-20</td>\n      <td>0.377</td>\n      <td>0.776</td>\n      <td>-8.707</td>\n      <td>0.0355</td>\n      <td>0.004100</td>\n      <td>0.267000</td>\n      <td>0.1090</td>\n      <td>0.419</td>\n      <td>141.168</td>\n    </tr>\n    <tr>\n      <th>...</th>\n      <td>...</td>\n      <td>...</td>\n      <td>...</td>\n      <td>...</td>\n      <td>...</td>\n      <td>...</td>\n      <td>...</td>\n      <td>...</td>\n      <td>...</td>\n      <td>...</td>\n      <td>...</td>\n      <td>...</td>\n      <td>...</td>\n      <td>...</td>\n      <td>...</td>\n      <td>...</td>\n      <td>...</td>\n    </tr>\n    <tr>\n      <th>285</th>\n      <td>549402</td>\n      <td>6AKfPkyy8yTfQKU48TuoMW</td>\n      <td>Sweetest Thing</td>\n      <td>25</td>\n      <td>184543</td>\n      <td>0</td>\n      <td>['U2']</td>\n      <td>1987-03-03</td>\n      <td>0.524</td>\n      <td>0.641</td>\n      <td>-8.967</td>\n      <td>0.0497</td>\n      <td>0.043700</td>\n      <td>0.000028</td>\n      <td>0.1590</td>\n      <td>0.482</td>\n      <td>141.650</td>\n    </tr>\n    <tr>\n      <th>286</th>\n      <td>549506</td>\n      <td>6abwt2tM2wEwS1HPTFwNsr</td>\n      <td>In God's Country</td>\n      <td>16</td>\n      <td>176597</td>\n      <td>0</td>\n      <td>['U2']</td>\n      <td>1987-03-03</td>\n      <td>0.497</td>\n      <td>0.704</td>\n      <td>-8.085</td>\n      <td>0.0324</td>\n      <td>0.007100</td>\n      <td>0.000067</td>\n      <td>0.7830</td>\n      <td>0.607</td>\n      <td>125.919</td>\n    </tr>\n    <tr>\n      <th>287</th>\n      <td>549514</td>\n      <td>6aaKZMKFmxKbBJNjSW59O2</td>\n      <td>Bullet The Blue Sky</td>\n      <td>15</td>\n      <td>271547</td>\n      <td>0</td>\n      <td>['U2']</td>\n      <td>1987-03-03</td>\n      <td>0.364</td>\n      <td>0.638</td>\n      <td>-10.240</td>\n      <td>0.0441</td>\n      <td>0.007350</td>\n      <td>0.399000</td>\n      <td>0.1330</td>\n      <td>0.451</td>\n      <td>152.509</td>\n    </tr>\n    <tr>\n      <th>288</th>\n      <td>549632</td>\n      <td>05lBOiUnCwQaulWFMflvHT</td>\n      <td>Running To Stand Still</td>\n      <td>11</td>\n      <td>257366</td>\n      <td>0</td>\n      <td>['U2']</td>\n      <td>1987-03-03</td>\n      <td>0.537</td>\n      <td>0.199</td>\n      <td>-18.726</td>\n      <td>0.0287</td>\n      <td>0.861000</td>\n      <td>0.025900</td>\n      <td>0.3340</td>\n      <td>0.229</td>\n      <td>94.634</td>\n    </tr>\n    <tr>\n      <th>289</th>\n      <td>563986</td>\n      <td>072hgfYnUYgdAqdFMazCzN</td>\n      <td>Two Hearts Beat As One - Club Version - Steve ...</td>\n      <td>23</td>\n      <td>342800</td>\n      <td>0</td>\n      <td>['U2']</td>\n      <td>1983-02-28</td>\n      <td>0.615</td>\n      <td>0.905</td>\n      <td>-7.424</td>\n      <td>0.0342</td>\n      <td>0.001790</td>\n      <td>0.043500</td>\n      <td>0.0358</td>\n      <td>0.879</td>\n      <td>141.644</td>\n    </tr>\n  </tbody>\n</table>\n<p>290 rows × 17 columns</p>\n</div>"
     },
     "metadata": {},
     "execution_count": 8
    }
   ],
   "source": [
    "# smaller dataframe that might help figure out loops \n",
    "# 290 rows; 203 songs\n",
    "# one artist & different song titles -- but few duplicates of song titles\n",
    "u2_df = clean_df.loc[clean_df['artists'] == \"['U2']\"].reset_index()\n",
    "u2_songs = u2_df['name'].nunique()  #203\n",
    "u2_df"
   ]
  },
  {
   "cell_type": "code",
   "execution_count": 53,
   "metadata": {},
   "outputs": [
    {
     "output_type": "execute_result",
     "data": {
      "text/plain": [
       "203"
      ]
     },
     "metadata": {},
     "execution_count": 53
    }
   ],
   "source": []
  },
  {
   "cell_type": "code",
   "execution_count": 47,
   "metadata": {},
   "outputs": [
    {
     "output_type": "execute_result",
     "data": {
      "text/plain": [
       "                            id             name  popularity  duration_ms  \\\n",
       "81271   1QV6tiMFM6fSOKOGLMHYYg       Poker Face          78       237200   \n",
       "81300   5R8dQOPq8haW94K7mgERlO       Poker Face          75       237200   \n",
       "81331   02XnQdf7sipaKBBHixz3Zp        Paparazzi          72       208307   \n",
       "81417   7Hqig8kp32q2Ire3ECQvWM        Paparazzi          69       208307   \n",
       "81543   0eH2eHURaXUP15D8gQlfjx         LoveGame          65       216333   \n",
       "...                        ...              ...         ...          ...   \n",
       "558981  4q57oGT90FfPHf7vWp32Ho            Judas          38       249067   \n",
       "559227  69jnWw97sX1dYK2grPhyF9        You And I          31       307360   \n",
       "559768  1EntfuxWPYjI8ONzkfNb0W         Applause          40       212333   \n",
       "561178  3jArQ9tPKWxKnn18iXS3TF  Million Reasons          41       205280   \n",
       "583175  70vvnTUamBXOc0vRk7BBDu       Poker Face          50       237200   \n",
       "\n",
       "        explicit        artists release_date  danceability  energy  loudness  \\\n",
       "81271          0  ['Lady Gaga']   2008-01-01         0.851   0.806    -4.620   \n",
       "81300          0  ['Lady Gaga']   2008-01-01         0.851   0.806    -4.620   \n",
       "81331          0  ['Lady Gaga']   2008-01-01         0.762   0.692    -3.973   \n",
       "81417          0  ['Lady Gaga']   2008-01-01         0.762   0.692    -3.973   \n",
       "81543          0  ['Lady Gaga']   2008-01-01         0.894   0.678    -5.611   \n",
       "...          ...            ...          ...           ...     ...       ...   \n",
       "558981         0  ['Lady Gaga']   2011-01-01         0.664   0.934    -3.848   \n",
       "559227         0  ['Lady Gaga']   2011-01-01         0.521   0.701    -5.238   \n",
       "559768         0  ['Lady Gaga']   2013-11-11         0.669   0.780    -4.287   \n",
       "561178         0  ['Lady Gaga']   2016-10-21         0.666   0.423    -8.012   \n",
       "583175         0  ['Lady Gaga']   2009-11-18         0.851   0.806    -4.618   \n",
       "\n",
       "        speechiness  acousticness  instrumentalness  liveness  valence  \\\n",
       "81271        0.0787       0.11800          0.000002    0.1210    0.787   \n",
       "81300        0.0787       0.11800          0.000002    0.1210    0.787   \n",
       "81331        0.0438       0.11300          0.000000    0.0940    0.397   \n",
       "81417        0.0438       0.11300          0.000000    0.0940    0.397   \n",
       "81543        0.0523       0.00569          0.000002    0.3170    0.844   \n",
       "...             ...           ...               ...       ...      ...   \n",
       "558981       0.0697       0.00108          0.000028    0.2700    0.530   \n",
       "559227       0.0458       0.08920          0.000000    0.0876    0.518   \n",
       "559768       0.0530       0.02650          0.000002    0.1430    0.738   \n",
       "561178       0.0430       0.49400          0.000000    0.1060    0.154   \n",
       "583175       0.0788       0.12000          0.000001    0.1220    0.775   \n",
       "\n",
       "          tempo  \n",
       "81271   118.999  \n",
       "81300   118.999  \n",
       "81331   114.906  \n",
       "81417   114.906  \n",
       "81543   105.024  \n",
       "...         ...  \n",
       "558981  130.982  \n",
       "559227  127.087  \n",
       "559768  139.945  \n",
       "561178  129.890  \n",
       "583175  119.002  \n",
       "\n",
       "[77 rows x 16 columns]"
      ],
      "text/html": "<div>\n<style scoped>\n    .dataframe tbody tr th:only-of-type {\n        vertical-align: middle;\n    }\n\n    .dataframe tbody tr th {\n        vertical-align: top;\n    }\n\n    .dataframe thead th {\n        text-align: right;\n    }\n</style>\n<table border=\"1\" class=\"dataframe\">\n  <thead>\n    <tr style=\"text-align: right;\">\n      <th></th>\n      <th>id</th>\n      <th>name</th>\n      <th>popularity</th>\n      <th>duration_ms</th>\n      <th>explicit</th>\n      <th>artists</th>\n      <th>release_date</th>\n      <th>danceability</th>\n      <th>energy</th>\n      <th>loudness</th>\n      <th>speechiness</th>\n      <th>acousticness</th>\n      <th>instrumentalness</th>\n      <th>liveness</th>\n      <th>valence</th>\n      <th>tempo</th>\n    </tr>\n  </thead>\n  <tbody>\n    <tr>\n      <th>81271</th>\n      <td>1QV6tiMFM6fSOKOGLMHYYg</td>\n      <td>Poker Face</td>\n      <td>78</td>\n      <td>237200</td>\n      <td>0</td>\n      <td>['Lady Gaga']</td>\n      <td>2008-01-01</td>\n      <td>0.851</td>\n      <td>0.806</td>\n      <td>-4.620</td>\n      <td>0.0787</td>\n      <td>0.11800</td>\n      <td>0.000002</td>\n      <td>0.1210</td>\n      <td>0.787</td>\n      <td>118.999</td>\n    </tr>\n    <tr>\n      <th>81300</th>\n      <td>5R8dQOPq8haW94K7mgERlO</td>\n      <td>Poker Face</td>\n      <td>75</td>\n      <td>237200</td>\n      <td>0</td>\n      <td>['Lady Gaga']</td>\n      <td>2008-01-01</td>\n      <td>0.851</td>\n      <td>0.806</td>\n      <td>-4.620</td>\n      <td>0.0787</td>\n      <td>0.11800</td>\n      <td>0.000002</td>\n      <td>0.1210</td>\n      <td>0.787</td>\n      <td>118.999</td>\n    </tr>\n    <tr>\n      <th>81331</th>\n      <td>02XnQdf7sipaKBBHixz3Zp</td>\n      <td>Paparazzi</td>\n      <td>72</td>\n      <td>208307</td>\n      <td>0</td>\n      <td>['Lady Gaga']</td>\n      <td>2008-01-01</td>\n      <td>0.762</td>\n      <td>0.692</td>\n      <td>-3.973</td>\n      <td>0.0438</td>\n      <td>0.11300</td>\n      <td>0.000000</td>\n      <td>0.0940</td>\n      <td>0.397</td>\n      <td>114.906</td>\n    </tr>\n    <tr>\n      <th>81417</th>\n      <td>7Hqig8kp32q2Ire3ECQvWM</td>\n      <td>Paparazzi</td>\n      <td>69</td>\n      <td>208307</td>\n      <td>0</td>\n      <td>['Lady Gaga']</td>\n      <td>2008-01-01</td>\n      <td>0.762</td>\n      <td>0.692</td>\n      <td>-3.973</td>\n      <td>0.0438</td>\n      <td>0.11300</td>\n      <td>0.000000</td>\n      <td>0.0940</td>\n      <td>0.397</td>\n      <td>114.906</td>\n    </tr>\n    <tr>\n      <th>81543</th>\n      <td>0eH2eHURaXUP15D8gQlfjx</td>\n      <td>LoveGame</td>\n      <td>65</td>\n      <td>216333</td>\n      <td>0</td>\n      <td>['Lady Gaga']</td>\n      <td>2008-01-01</td>\n      <td>0.894</td>\n      <td>0.678</td>\n      <td>-5.611</td>\n      <td>0.0523</td>\n      <td>0.00569</td>\n      <td>0.000002</td>\n      <td>0.3170</td>\n      <td>0.844</td>\n      <td>105.024</td>\n    </tr>\n    <tr>\n      <th>...</th>\n      <td>...</td>\n      <td>...</td>\n      <td>...</td>\n      <td>...</td>\n      <td>...</td>\n      <td>...</td>\n      <td>...</td>\n      <td>...</td>\n      <td>...</td>\n      <td>...</td>\n      <td>...</td>\n      <td>...</td>\n      <td>...</td>\n      <td>...</td>\n      <td>...</td>\n      <td>...</td>\n    </tr>\n    <tr>\n      <th>558981</th>\n      <td>4q57oGT90FfPHf7vWp32Ho</td>\n      <td>Judas</td>\n      <td>38</td>\n      <td>249067</td>\n      <td>0</td>\n      <td>['Lady Gaga']</td>\n      <td>2011-01-01</td>\n      <td>0.664</td>\n      <td>0.934</td>\n      <td>-3.848</td>\n      <td>0.0697</td>\n      <td>0.00108</td>\n      <td>0.000028</td>\n      <td>0.2700</td>\n      <td>0.530</td>\n      <td>130.982</td>\n    </tr>\n    <tr>\n      <th>559227</th>\n      <td>69jnWw97sX1dYK2grPhyF9</td>\n      <td>You And I</td>\n      <td>31</td>\n      <td>307360</td>\n      <td>0</td>\n      <td>['Lady Gaga']</td>\n      <td>2011-01-01</td>\n      <td>0.521</td>\n      <td>0.701</td>\n      <td>-5.238</td>\n      <td>0.0458</td>\n      <td>0.08920</td>\n      <td>0.000000</td>\n      <td>0.0876</td>\n      <td>0.518</td>\n      <td>127.087</td>\n    </tr>\n    <tr>\n      <th>559768</th>\n      <td>1EntfuxWPYjI8ONzkfNb0W</td>\n      <td>Applause</td>\n      <td>40</td>\n      <td>212333</td>\n      <td>0</td>\n      <td>['Lady Gaga']</td>\n      <td>2013-11-11</td>\n      <td>0.669</td>\n      <td>0.780</td>\n      <td>-4.287</td>\n      <td>0.0530</td>\n      <td>0.02650</td>\n      <td>0.000002</td>\n      <td>0.1430</td>\n      <td>0.738</td>\n      <td>139.945</td>\n    </tr>\n    <tr>\n      <th>561178</th>\n      <td>3jArQ9tPKWxKnn18iXS3TF</td>\n      <td>Million Reasons</td>\n      <td>41</td>\n      <td>205280</td>\n      <td>0</td>\n      <td>['Lady Gaga']</td>\n      <td>2016-10-21</td>\n      <td>0.666</td>\n      <td>0.423</td>\n      <td>-8.012</td>\n      <td>0.0430</td>\n      <td>0.49400</td>\n      <td>0.000000</td>\n      <td>0.1060</td>\n      <td>0.154</td>\n      <td>129.890</td>\n    </tr>\n    <tr>\n      <th>583175</th>\n      <td>70vvnTUamBXOc0vRk7BBDu</td>\n      <td>Poker Face</td>\n      <td>50</td>\n      <td>237200</td>\n      <td>0</td>\n      <td>['Lady Gaga']</td>\n      <td>2009-11-18</td>\n      <td>0.851</td>\n      <td>0.806</td>\n      <td>-4.618</td>\n      <td>0.0788</td>\n      <td>0.12000</td>\n      <td>0.000001</td>\n      <td>0.1220</td>\n      <td>0.775</td>\n      <td>119.002</td>\n    </tr>\n  </tbody>\n</table>\n<p>77 rows × 16 columns</p>\n</div>"
     },
     "metadata": {},
     "execution_count": 47
    }
   ],
   "source": [
    "# smaller dataframe for testing loops\n",
    "# 77 tracks, 34 songs\n",
    "# one artist & multiple duplicates that look like exact same track\n",
    "gaga_df = clean_df.loc[clean_df['artists'] == \"['Lady Gaga']\"]\n",
    "gaga_songs = gaga_df['name'].nunique()     \n",
    "gaga_df"
   ]
  },
  {
   "cell_type": "code",
   "execution_count": 10,
   "metadata": {},
   "outputs": [
    {
     "output_type": "execute_result",
     "data": {
      "text/plain": [
       "   level_0   index                      id        name  popularity  \\\n",
       "0        0   81271  1QV6tiMFM6fSOKOGLMHYYg  Poker Face          78   \n",
       "1        1   81300  5R8dQOPq8haW94K7mgERlO  Poker Face          75   \n",
       "2       23  110065  4liFTpYparE2zEUp2GfG64  Poker Face          36   \n",
       "3       27  130728  7zACUQbWQxzT4aER7ityBV  Poker Face          57   \n",
       "4       37  200963  4wB4cPK52RCQviHm4SC2wa  Poker Face           9   \n",
       "5       58  387594  3cJTPvEe33hGNJguNPAoBC  Poker Face          46   \n",
       "6       67  444082  0gVpWodvUHcvcgVjK26Jga  Poker Face           3   \n",
       "7       76  583175  70vvnTUamBXOc0vRk7BBDu  Poker Face          50   \n",
       "\n",
       "   duration_ms  explicit        artists release_date  danceability  energy  \\\n",
       "0       237200         0  ['Lady Gaga']   2008-01-01         0.851   0.806   \n",
       "1       237200         0  ['Lady Gaga']   2008-01-01         0.851   0.806   \n",
       "2       238907         0  ['Lady Gaga']   2020-10-23         0.851   0.818   \n",
       "3       237200         0  ['Lady Gaga']   2009-11-05         0.851   0.806   \n",
       "4       238907         0  ['Lady Gaga']   2020-10-23         0.851   0.818   \n",
       "5       237533         0  ['Lady Gaga']   2008-09-26         0.849   0.824   \n",
       "6       238320         0  ['Lady Gaga']   2015-12-11         0.850   0.784   \n",
       "7       237200         0  ['Lady Gaga']   2009-11-18         0.851   0.806   \n",
       "\n",
       "   loudness  speechiness  acousticness  instrumentalness  liveness  valence  \\\n",
       "0    -4.620       0.0787         0.118          0.000002    0.1210    0.787   \n",
       "1    -4.620       0.0787         0.118          0.000002    0.1210    0.787   \n",
       "2    -4.637       0.0789         0.112          0.000003    0.0945    0.808   \n",
       "3    -4.620       0.0787         0.118          0.000002    0.1210    0.787   \n",
       "4    -4.637       0.0789         0.112          0.000003    0.0945    0.808   \n",
       "5    -4.610       0.0788         0.128          0.000003    0.0867    0.785   \n",
       "6    -5.668       0.0785         0.134          0.000003    0.0997    0.779   \n",
       "7    -4.618       0.0788         0.120          0.000001    0.1220    0.775   \n",
       "\n",
       "     tempo  \n",
       "0  118.999  \n",
       "1  118.999  \n",
       "2  119.006  \n",
       "3  118.999  \n",
       "4  119.006  \n",
       "5  119.001  \n",
       "6  119.000  \n",
       "7  119.002  "
      ],
      "text/html": "<div>\n<style scoped>\n    .dataframe tbody tr th:only-of-type {\n        vertical-align: middle;\n    }\n\n    .dataframe tbody tr th {\n        vertical-align: top;\n    }\n\n    .dataframe thead th {\n        text-align: right;\n    }\n</style>\n<table border=\"1\" class=\"dataframe\">\n  <thead>\n    <tr style=\"text-align: right;\">\n      <th></th>\n      <th>level_0</th>\n      <th>index</th>\n      <th>id</th>\n      <th>name</th>\n      <th>popularity</th>\n      <th>duration_ms</th>\n      <th>explicit</th>\n      <th>artists</th>\n      <th>release_date</th>\n      <th>danceability</th>\n      <th>energy</th>\n      <th>loudness</th>\n      <th>speechiness</th>\n      <th>acousticness</th>\n      <th>instrumentalness</th>\n      <th>liveness</th>\n      <th>valence</th>\n      <th>tempo</th>\n    </tr>\n  </thead>\n  <tbody>\n    <tr>\n      <th>0</th>\n      <td>0</td>\n      <td>81271</td>\n      <td>1QV6tiMFM6fSOKOGLMHYYg</td>\n      <td>Poker Face</td>\n      <td>78</td>\n      <td>237200</td>\n      <td>0</td>\n      <td>['Lady Gaga']</td>\n      <td>2008-01-01</td>\n      <td>0.851</td>\n      <td>0.806</td>\n      <td>-4.620</td>\n      <td>0.0787</td>\n      <td>0.118</td>\n      <td>0.000002</td>\n      <td>0.1210</td>\n      <td>0.787</td>\n      <td>118.999</td>\n    </tr>\n    <tr>\n      <th>1</th>\n      <td>1</td>\n      <td>81300</td>\n      <td>5R8dQOPq8haW94K7mgERlO</td>\n      <td>Poker Face</td>\n      <td>75</td>\n      <td>237200</td>\n      <td>0</td>\n      <td>['Lady Gaga']</td>\n      <td>2008-01-01</td>\n      <td>0.851</td>\n      <td>0.806</td>\n      <td>-4.620</td>\n      <td>0.0787</td>\n      <td>0.118</td>\n      <td>0.000002</td>\n      <td>0.1210</td>\n      <td>0.787</td>\n      <td>118.999</td>\n    </tr>\n    <tr>\n      <th>2</th>\n      <td>23</td>\n      <td>110065</td>\n      <td>4liFTpYparE2zEUp2GfG64</td>\n      <td>Poker Face</td>\n      <td>36</td>\n      <td>238907</td>\n      <td>0</td>\n      <td>['Lady Gaga']</td>\n      <td>2020-10-23</td>\n      <td>0.851</td>\n      <td>0.818</td>\n      <td>-4.637</td>\n      <td>0.0789</td>\n      <td>0.112</td>\n      <td>0.000003</td>\n      <td>0.0945</td>\n      <td>0.808</td>\n      <td>119.006</td>\n    </tr>\n    <tr>\n      <th>3</th>\n      <td>27</td>\n      <td>130728</td>\n      <td>7zACUQbWQxzT4aER7ityBV</td>\n      <td>Poker Face</td>\n      <td>57</td>\n      <td>237200</td>\n      <td>0</td>\n      <td>['Lady Gaga']</td>\n      <td>2009-11-05</td>\n      <td>0.851</td>\n      <td>0.806</td>\n      <td>-4.620</td>\n      <td>0.0787</td>\n      <td>0.118</td>\n      <td>0.000002</td>\n      <td>0.1210</td>\n      <td>0.787</td>\n      <td>118.999</td>\n    </tr>\n    <tr>\n      <th>4</th>\n      <td>37</td>\n      <td>200963</td>\n      <td>4wB4cPK52RCQviHm4SC2wa</td>\n      <td>Poker Face</td>\n      <td>9</td>\n      <td>238907</td>\n      <td>0</td>\n      <td>['Lady Gaga']</td>\n      <td>2020-10-23</td>\n      <td>0.851</td>\n      <td>0.818</td>\n      <td>-4.637</td>\n      <td>0.0789</td>\n      <td>0.112</td>\n      <td>0.000003</td>\n      <td>0.0945</td>\n      <td>0.808</td>\n      <td>119.006</td>\n    </tr>\n    <tr>\n      <th>5</th>\n      <td>58</td>\n      <td>387594</td>\n      <td>3cJTPvEe33hGNJguNPAoBC</td>\n      <td>Poker Face</td>\n      <td>46</td>\n      <td>237533</td>\n      <td>0</td>\n      <td>['Lady Gaga']</td>\n      <td>2008-09-26</td>\n      <td>0.849</td>\n      <td>0.824</td>\n      <td>-4.610</td>\n      <td>0.0788</td>\n      <td>0.128</td>\n      <td>0.000003</td>\n      <td>0.0867</td>\n      <td>0.785</td>\n      <td>119.001</td>\n    </tr>\n    <tr>\n      <th>6</th>\n      <td>67</td>\n      <td>444082</td>\n      <td>0gVpWodvUHcvcgVjK26Jga</td>\n      <td>Poker Face</td>\n      <td>3</td>\n      <td>238320</td>\n      <td>0</td>\n      <td>['Lady Gaga']</td>\n      <td>2015-12-11</td>\n      <td>0.850</td>\n      <td>0.784</td>\n      <td>-5.668</td>\n      <td>0.0785</td>\n      <td>0.134</td>\n      <td>0.000003</td>\n      <td>0.0997</td>\n      <td>0.779</td>\n      <td>119.000</td>\n    </tr>\n    <tr>\n      <th>7</th>\n      <td>76</td>\n      <td>583175</td>\n      <td>70vvnTUamBXOc0vRk7BBDu</td>\n      <td>Poker Face</td>\n      <td>50</td>\n      <td>237200</td>\n      <td>0</td>\n      <td>['Lady Gaga']</td>\n      <td>2009-11-18</td>\n      <td>0.851</td>\n      <td>0.806</td>\n      <td>-4.618</td>\n      <td>0.0788</td>\n      <td>0.120</td>\n      <td>0.000001</td>\n      <td>0.1220</td>\n      <td>0.775</td>\n      <td>119.002</td>\n    </tr>\n  </tbody>\n</table>\n</div>"
     },
     "metadata": {},
     "execution_count": 10
    }
   ],
   "source": [
    "# smaller data frame for testing loops\n",
    "# 8 rows\n",
    "# just 1 song -- but looks like several different versions based on acoustic values\n",
    "poker_face_df = gaga_df.loc[gaga_df['name'].str.contains('Poker Face')].reset_index()\n",
    "poker_face_df"
   ]
  },
  {
   "source": [
    "### List of dataframes\n",
    "* clean_df = 586601 lines -- what ultimately needs to be cleaned\n",
    "* contains_one_df = 2962 lines -- should have duplicate artists & duplicate tracks in varying combos\n",
    "* u2_df = 290 lines -- just U2, has duplicate tracks but some are definitely different versions\n",
    "* gaga_df = 77 lines -- just Lady Gaga, has duplicate tracks\n",
    "* poker_face_df = 8 lines -- all versions of \"Poker Face\"--4 of which look identical except popularity"
   ],
   "cell_type": "markdown",
   "metadata": {}
  },
  {
   "source": [
    "### Cleaning for artist x number of tracks popularity\n",
    "1. remove release dates pre-1950 bc contemporary pop music is considered to have started in mid-1950s, so removing older tracks seems reasonable\n",
    "2. "
   ],
   "cell_type": "markdown",
   "metadata": {}
  },
  {
   "cell_type": "code",
   "execution_count": 51,
   "metadata": {},
   "outputs": [
    {
     "output_type": "error",
     "ename": "KeyError",
     "evalue": "False",
     "traceback": [
      "\u001b[0;31m---------------------------------------------------------------------------\u001b[0m",
      "\u001b[0;31mKeyError\u001b[0m                                  Traceback (most recent call last)",
      "\u001b[0;32m<ipython-input-51-58a7aac64944>\u001b[0m in \u001b[0;36m<module>\u001b[0;34m\u001b[0m\n\u001b[0;32m----> 1\u001b[0;31m \u001b[0mworking_df\u001b[0m \u001b[0;34m=\u001b[0m \u001b[0mtracks_df\u001b[0m\u001b[0;34m.\u001b[0m\u001b[0mloc\u001b[0m\u001b[0;34m[\u001b[0m\u001b[0;34m[\u001b[0m\u001b[0;34m'artists'\u001b[0m\u001b[0;34m]\u001b[0m \u001b[0;34m==\u001b[0m \u001b[0;34m'Lady Gaga'\u001b[0m\u001b[0;34m]\u001b[0m\u001b[0;34m\u001b[0m\u001b[0;34m\u001b[0m\u001b[0m\n\u001b[0m",
      "\u001b[0;32m~/opt/anaconda3/lib/python3.8/site-packages/pandas/core/indexing.py\u001b[0m in \u001b[0;36m__getitem__\u001b[0;34m(self, key)\u001b[0m\n\u001b[1;32m    877\u001b[0m \u001b[0;34m\u001b[0m\u001b[0m\n\u001b[1;32m    878\u001b[0m             \u001b[0mmaybe_callable\u001b[0m \u001b[0;34m=\u001b[0m \u001b[0mcom\u001b[0m\u001b[0;34m.\u001b[0m\u001b[0mapply_if_callable\u001b[0m\u001b[0;34m(\u001b[0m\u001b[0mkey\u001b[0m\u001b[0;34m,\u001b[0m \u001b[0mself\u001b[0m\u001b[0;34m.\u001b[0m\u001b[0mobj\u001b[0m\u001b[0;34m)\u001b[0m\u001b[0;34m\u001b[0m\u001b[0;34m\u001b[0m\u001b[0m\n\u001b[0;32m--> 879\u001b[0;31m             \u001b[0;32mreturn\u001b[0m \u001b[0mself\u001b[0m\u001b[0;34m.\u001b[0m\u001b[0m_getitem_axis\u001b[0m\u001b[0;34m(\u001b[0m\u001b[0mmaybe_callable\u001b[0m\u001b[0;34m,\u001b[0m \u001b[0maxis\u001b[0m\u001b[0;34m=\u001b[0m\u001b[0maxis\u001b[0m\u001b[0;34m)\u001b[0m\u001b[0;34m\u001b[0m\u001b[0;34m\u001b[0m\u001b[0m\n\u001b[0m\u001b[1;32m    880\u001b[0m \u001b[0;34m\u001b[0m\u001b[0m\n\u001b[1;32m    881\u001b[0m     \u001b[0;32mdef\u001b[0m \u001b[0m_is_scalar_access\u001b[0m\u001b[0;34m(\u001b[0m\u001b[0mself\u001b[0m\u001b[0;34m,\u001b[0m \u001b[0mkey\u001b[0m\u001b[0;34m:\u001b[0m \u001b[0mTuple\u001b[0m\u001b[0;34m)\u001b[0m\u001b[0;34m:\u001b[0m\u001b[0;34m\u001b[0m\u001b[0;34m\u001b[0m\u001b[0m\n",
      "\u001b[0;32m~/opt/anaconda3/lib/python3.8/site-packages/pandas/core/indexing.py\u001b[0m in \u001b[0;36m_getitem_axis\u001b[0;34m(self, key, axis)\u001b[0m\n\u001b[1;32m   1108\u001b[0m         \u001b[0;31m# fall thru to straight lookup\u001b[0m\u001b[0;34m\u001b[0m\u001b[0;34m\u001b[0m\u001b[0;34m\u001b[0m\u001b[0m\n\u001b[1;32m   1109\u001b[0m         \u001b[0mself\u001b[0m\u001b[0;34m.\u001b[0m\u001b[0m_validate_key\u001b[0m\u001b[0;34m(\u001b[0m\u001b[0mkey\u001b[0m\u001b[0;34m,\u001b[0m \u001b[0maxis\u001b[0m\u001b[0;34m)\u001b[0m\u001b[0;34m\u001b[0m\u001b[0;34m\u001b[0m\u001b[0m\n\u001b[0;32m-> 1110\u001b[0;31m         \u001b[0;32mreturn\u001b[0m \u001b[0mself\u001b[0m\u001b[0;34m.\u001b[0m\u001b[0m_get_label\u001b[0m\u001b[0;34m(\u001b[0m\u001b[0mkey\u001b[0m\u001b[0;34m,\u001b[0m \u001b[0maxis\u001b[0m\u001b[0;34m=\u001b[0m\u001b[0maxis\u001b[0m\u001b[0;34m)\u001b[0m\u001b[0;34m\u001b[0m\u001b[0;34m\u001b[0m\u001b[0m\n\u001b[0m\u001b[1;32m   1111\u001b[0m \u001b[0;34m\u001b[0m\u001b[0m\n\u001b[1;32m   1112\u001b[0m     \u001b[0;32mdef\u001b[0m \u001b[0m_get_slice_axis\u001b[0m\u001b[0;34m(\u001b[0m\u001b[0mself\u001b[0m\u001b[0;34m,\u001b[0m \u001b[0mslice_obj\u001b[0m\u001b[0;34m:\u001b[0m \u001b[0mslice\u001b[0m\u001b[0;34m,\u001b[0m \u001b[0maxis\u001b[0m\u001b[0;34m:\u001b[0m \u001b[0mint\u001b[0m\u001b[0;34m)\u001b[0m\u001b[0;34m:\u001b[0m\u001b[0;34m\u001b[0m\u001b[0;34m\u001b[0m\u001b[0m\n",
      "\u001b[0;32m~/opt/anaconda3/lib/python3.8/site-packages/pandas/core/indexing.py\u001b[0m in \u001b[0;36m_get_label\u001b[0;34m(self, label, axis)\u001b[0m\n\u001b[1;32m   1057\u001b[0m     \u001b[0;32mdef\u001b[0m \u001b[0m_get_label\u001b[0m\u001b[0;34m(\u001b[0m\u001b[0mself\u001b[0m\u001b[0;34m,\u001b[0m \u001b[0mlabel\u001b[0m\u001b[0;34m,\u001b[0m \u001b[0maxis\u001b[0m\u001b[0;34m:\u001b[0m \u001b[0mint\u001b[0m\u001b[0;34m)\u001b[0m\u001b[0;34m:\u001b[0m\u001b[0;34m\u001b[0m\u001b[0;34m\u001b[0m\u001b[0m\n\u001b[1;32m   1058\u001b[0m         \u001b[0;31m# GH#5667 this will fail if the label is not present in the axis.\u001b[0m\u001b[0;34m\u001b[0m\u001b[0;34m\u001b[0m\u001b[0;34m\u001b[0m\u001b[0m\n\u001b[0;32m-> 1059\u001b[0;31m         \u001b[0;32mreturn\u001b[0m \u001b[0mself\u001b[0m\u001b[0;34m.\u001b[0m\u001b[0mobj\u001b[0m\u001b[0;34m.\u001b[0m\u001b[0mxs\u001b[0m\u001b[0;34m(\u001b[0m\u001b[0mlabel\u001b[0m\u001b[0;34m,\u001b[0m \u001b[0maxis\u001b[0m\u001b[0;34m=\u001b[0m\u001b[0maxis\u001b[0m\u001b[0;34m)\u001b[0m\u001b[0;34m\u001b[0m\u001b[0;34m\u001b[0m\u001b[0m\n\u001b[0m\u001b[1;32m   1060\u001b[0m \u001b[0;34m\u001b[0m\u001b[0m\n\u001b[1;32m   1061\u001b[0m     \u001b[0;32mdef\u001b[0m \u001b[0m_handle_lowerdim_multi_index_axis0\u001b[0m\u001b[0;34m(\u001b[0m\u001b[0mself\u001b[0m\u001b[0;34m,\u001b[0m \u001b[0mtup\u001b[0m\u001b[0;34m:\u001b[0m \u001b[0mTuple\u001b[0m\u001b[0;34m)\u001b[0m\u001b[0;34m:\u001b[0m\u001b[0;34m\u001b[0m\u001b[0;34m\u001b[0m\u001b[0m\n",
      "\u001b[0;32m~/opt/anaconda3/lib/python3.8/site-packages/pandas/core/generic.py\u001b[0m in \u001b[0;36mxs\u001b[0;34m(self, key, axis, level, drop_level)\u001b[0m\n\u001b[1;32m   3489\u001b[0m             \u001b[0mloc\u001b[0m\u001b[0;34m,\u001b[0m \u001b[0mnew_index\u001b[0m \u001b[0;34m=\u001b[0m \u001b[0mself\u001b[0m\u001b[0;34m.\u001b[0m\u001b[0mindex\u001b[0m\u001b[0;34m.\u001b[0m\u001b[0mget_loc_level\u001b[0m\u001b[0;34m(\u001b[0m\u001b[0mkey\u001b[0m\u001b[0;34m,\u001b[0m \u001b[0mdrop_level\u001b[0m\u001b[0;34m=\u001b[0m\u001b[0mdrop_level\u001b[0m\u001b[0;34m)\u001b[0m\u001b[0;34m\u001b[0m\u001b[0;34m\u001b[0m\u001b[0m\n\u001b[1;32m   3490\u001b[0m         \u001b[0;32melse\u001b[0m\u001b[0;34m:\u001b[0m\u001b[0;34m\u001b[0m\u001b[0;34m\u001b[0m\u001b[0m\n\u001b[0;32m-> 3491\u001b[0;31m             \u001b[0mloc\u001b[0m \u001b[0;34m=\u001b[0m \u001b[0mself\u001b[0m\u001b[0;34m.\u001b[0m\u001b[0mindex\u001b[0m\u001b[0;34m.\u001b[0m\u001b[0mget_loc\u001b[0m\u001b[0;34m(\u001b[0m\u001b[0mkey\u001b[0m\u001b[0;34m)\u001b[0m\u001b[0;34m\u001b[0m\u001b[0;34m\u001b[0m\u001b[0m\n\u001b[0m\u001b[1;32m   3492\u001b[0m \u001b[0;34m\u001b[0m\u001b[0m\n\u001b[1;32m   3493\u001b[0m             \u001b[0;32mif\u001b[0m \u001b[0misinstance\u001b[0m\u001b[0;34m(\u001b[0m\u001b[0mloc\u001b[0m\u001b[0;34m,\u001b[0m \u001b[0mnp\u001b[0m\u001b[0;34m.\u001b[0m\u001b[0mndarray\u001b[0m\u001b[0;34m)\u001b[0m\u001b[0;34m:\u001b[0m\u001b[0;34m\u001b[0m\u001b[0;34m\u001b[0m\u001b[0m\n",
      "\u001b[0;32m~/opt/anaconda3/lib/python3.8/site-packages/pandas/core/indexes/range.py\u001b[0m in \u001b[0;36mget_loc\u001b[0;34m(self, key, method, tolerance)\u001b[0m\n\u001b[1;32m    356\u001b[0m                 \u001b[0;32mexcept\u001b[0m \u001b[0mValueError\u001b[0m \u001b[0;32mas\u001b[0m \u001b[0merr\u001b[0m\u001b[0;34m:\u001b[0m\u001b[0;34m\u001b[0m\u001b[0;34m\u001b[0m\u001b[0m\n\u001b[1;32m    357\u001b[0m                     \u001b[0;32mraise\u001b[0m \u001b[0mKeyError\u001b[0m\u001b[0;34m(\u001b[0m\u001b[0mkey\u001b[0m\u001b[0;34m)\u001b[0m \u001b[0;32mfrom\u001b[0m \u001b[0merr\u001b[0m\u001b[0;34m\u001b[0m\u001b[0;34m\u001b[0m\u001b[0m\n\u001b[0;32m--> 358\u001b[0;31m             \u001b[0;32mraise\u001b[0m \u001b[0mKeyError\u001b[0m\u001b[0;34m(\u001b[0m\u001b[0mkey\u001b[0m\u001b[0;34m)\u001b[0m\u001b[0;34m\u001b[0m\u001b[0;34m\u001b[0m\u001b[0m\n\u001b[0m\u001b[1;32m    359\u001b[0m         \u001b[0;32mreturn\u001b[0m \u001b[0msuper\u001b[0m\u001b[0;34m(\u001b[0m\u001b[0;34m)\u001b[0m\u001b[0;34m.\u001b[0m\u001b[0mget_loc\u001b[0m\u001b[0;34m(\u001b[0m\u001b[0mkey\u001b[0m\u001b[0;34m,\u001b[0m \u001b[0mmethod\u001b[0m\u001b[0;34m=\u001b[0m\u001b[0mmethod\u001b[0m\u001b[0;34m,\u001b[0m \u001b[0mtolerance\u001b[0m\u001b[0;34m=\u001b[0m\u001b[0mtolerance\u001b[0m\u001b[0;34m)\u001b[0m\u001b[0;34m\u001b[0m\u001b[0;34m\u001b[0m\u001b[0m\n\u001b[1;32m    360\u001b[0m \u001b[0;34m\u001b[0m\u001b[0m\n",
      "\u001b[0;31mKeyError\u001b[0m: False"
     ]
    }
   ],
   "source": [
    "working_df = tracks_df.loc[['artists'] == 'Lady Gaga']"
   ]
  },
  {
   "source": [
    "### 1. Removing tracks prior to 1950\n",
    "1.1 getting year for all tracks \n",
    "* BUILD ON gaga_df \n",
    "* need to transform release date from string to int  -- this could be tricky because some columns only had year to begin with\n",
    "* need to extract year from release_date\n",
    "* save year to new column\n",
    "* TEST ON contains_one_df\n",
    "\n",
    "1.2 remove tracks older than specified year\n",
    "* TEST ON u2_df with release pre-1990\n",
    "#. post_1950_df = tracks_df.loc[tracks_df['release_date'] > 1950, :]"
   ],
   "cell_type": "code",
   "metadata": {},
   "execution_count": null,
   "outputs": []
  },
  {
   "cell_type": "code",
   "execution_count": 58,
   "metadata": {},
   "outputs": [
    {
     "output_type": "execute_result",
     "data": {
      "text/plain": [
       "                           id        name  popularity  duration_ms  explicit  \\\n",
       "81271  1QV6tiMFM6fSOKOGLMHYYg  Poker Face          78       237200         0   \n",
       "81300  5R8dQOPq8haW94K7mgERlO  Poker Face          75       237200         0   \n",
       "81331  02XnQdf7sipaKBBHixz3Zp   Paparazzi          72       208307         0   \n",
       "\n",
       "             artists release_date  danceability  energy  loudness  \\\n",
       "81271  ['Lady Gaga']   2008-01-01         0.851   0.806    -4.620   \n",
       "81300  ['Lady Gaga']   2008-01-01         0.851   0.806    -4.620   \n",
       "81331  ['Lady Gaga']   2008-01-01         0.762   0.692    -3.973   \n",
       "\n",
       "       speechiness  acousticness  instrumentalness  liveness  valence  \\\n",
       "81271       0.0787         0.118          0.000002     0.121    0.787   \n",
       "81300       0.0787         0.118          0.000002     0.121    0.787   \n",
       "81331       0.0438         0.113          0.000000     0.094    0.397   \n",
       "\n",
       "         tempo       Year  \n",
       "81271  118.999 2008-01-01  \n",
       "81300  118.999 2008-01-01  \n",
       "81331  114.906 2008-01-01  "
      ],
      "text/html": "<div>\n<style scoped>\n    .dataframe tbody tr th:only-of-type {\n        vertical-align: middle;\n    }\n\n    .dataframe tbody tr th {\n        vertical-align: top;\n    }\n\n    .dataframe thead th {\n        text-align: right;\n    }\n</style>\n<table border=\"1\" class=\"dataframe\">\n  <thead>\n    <tr style=\"text-align: right;\">\n      <th></th>\n      <th>id</th>\n      <th>name</th>\n      <th>popularity</th>\n      <th>duration_ms</th>\n      <th>explicit</th>\n      <th>artists</th>\n      <th>release_date</th>\n      <th>danceability</th>\n      <th>energy</th>\n      <th>loudness</th>\n      <th>speechiness</th>\n      <th>acousticness</th>\n      <th>instrumentalness</th>\n      <th>liveness</th>\n      <th>valence</th>\n      <th>tempo</th>\n      <th>Year</th>\n    </tr>\n  </thead>\n  <tbody>\n    <tr>\n      <th>81271</th>\n      <td>1QV6tiMFM6fSOKOGLMHYYg</td>\n      <td>Poker Face</td>\n      <td>78</td>\n      <td>237200</td>\n      <td>0</td>\n      <td>['Lady Gaga']</td>\n      <td>2008-01-01</td>\n      <td>0.851</td>\n      <td>0.806</td>\n      <td>-4.620</td>\n      <td>0.0787</td>\n      <td>0.118</td>\n      <td>0.000002</td>\n      <td>0.121</td>\n      <td>0.787</td>\n      <td>118.999</td>\n      <td>2008-01-01</td>\n    </tr>\n    <tr>\n      <th>81300</th>\n      <td>5R8dQOPq8haW94K7mgERlO</td>\n      <td>Poker Face</td>\n      <td>75</td>\n      <td>237200</td>\n      <td>0</td>\n      <td>['Lady Gaga']</td>\n      <td>2008-01-01</td>\n      <td>0.851</td>\n      <td>0.806</td>\n      <td>-4.620</td>\n      <td>0.0787</td>\n      <td>0.118</td>\n      <td>0.000002</td>\n      <td>0.121</td>\n      <td>0.787</td>\n      <td>118.999</td>\n      <td>2008-01-01</td>\n    </tr>\n    <tr>\n      <th>81331</th>\n      <td>02XnQdf7sipaKBBHixz3Zp</td>\n      <td>Paparazzi</td>\n      <td>72</td>\n      <td>208307</td>\n      <td>0</td>\n      <td>['Lady Gaga']</td>\n      <td>2008-01-01</td>\n      <td>0.762</td>\n      <td>0.692</td>\n      <td>-3.973</td>\n      <td>0.0438</td>\n      <td>0.113</td>\n      <td>0.000000</td>\n      <td>0.094</td>\n      <td>0.397</td>\n      <td>114.906</td>\n      <td>2008-01-01</td>\n    </tr>\n  </tbody>\n</table>\n</div>"
     },
     "metadata": {},
     "execution_count": 58
    }
   ],
   "source": [
    "pd.options.mode.chained_assignment = None # was sometimes getting an error with this, so found this solution online\n",
    "# add a column for year\n",
    "gaga_df['Year'] = pd.to_datetime(gaga_df['release_date'])\n",
    "gaga_df.head(3)"
   ]
  },
  {
   "cell_type": "code",
   "execution_count": 60,
   "metadata": {},
   "outputs": [
    {
     "output_type": "execute_result",
     "data": {
      "text/plain": [
       "                           id        name  popularity  duration_ms  explicit  \\\n",
       "81271  1QV6tiMFM6fSOKOGLMHYYg  Poker Face          78       237200         0   \n",
       "81300  5R8dQOPq8haW94K7mgERlO  Poker Face          75       237200         0   \n",
       "81331  02XnQdf7sipaKBBHixz3Zp   Paparazzi          72       208307         0   \n",
       "81417  7Hqig8kp32q2Ire3ECQvWM   Paparazzi          69       208307         0   \n",
       "81543  0eH2eHURaXUP15D8gQlfjx    LoveGame          65       216333         0   \n",
       "\n",
       "             artists release_date  danceability  energy  loudness  \\\n",
       "81271  ['Lady Gaga']   2008-01-01         0.851   0.806    -4.620   \n",
       "81300  ['Lady Gaga']   2008-01-01         0.851   0.806    -4.620   \n",
       "81331  ['Lady Gaga']   2008-01-01         0.762   0.692    -3.973   \n",
       "81417  ['Lady Gaga']   2008-01-01         0.762   0.692    -3.973   \n",
       "81543  ['Lady Gaga']   2008-01-01         0.894   0.678    -5.611   \n",
       "\n",
       "       speechiness  acousticness  instrumentalness  liveness  valence  \\\n",
       "81271       0.0787       0.11800          0.000002     0.121    0.787   \n",
       "81300       0.0787       0.11800          0.000002     0.121    0.787   \n",
       "81331       0.0438       0.11300          0.000000     0.094    0.397   \n",
       "81417       0.0438       0.11300          0.000000     0.094    0.397   \n",
       "81543       0.0523       0.00569          0.000002     0.317    0.844   \n",
       "\n",
       "         tempo       Year  Year2  \n",
       "81271  118.999 2008-01-01   2008  \n",
       "81300  118.999 2008-01-01   2008  \n",
       "81331  114.906 2008-01-01   2008  \n",
       "81417  114.906 2008-01-01   2008  \n",
       "81543  105.024 2008-01-01   2008  "
      ],
      "text/html": "<div>\n<style scoped>\n    .dataframe tbody tr th:only-of-type {\n        vertical-align: middle;\n    }\n\n    .dataframe tbody tr th {\n        vertical-align: top;\n    }\n\n    .dataframe thead th {\n        text-align: right;\n    }\n</style>\n<table border=\"1\" class=\"dataframe\">\n  <thead>\n    <tr style=\"text-align: right;\">\n      <th></th>\n      <th>id</th>\n      <th>name</th>\n      <th>popularity</th>\n      <th>duration_ms</th>\n      <th>explicit</th>\n      <th>artists</th>\n      <th>release_date</th>\n      <th>danceability</th>\n      <th>energy</th>\n      <th>loudness</th>\n      <th>speechiness</th>\n      <th>acousticness</th>\n      <th>instrumentalness</th>\n      <th>liveness</th>\n      <th>valence</th>\n      <th>tempo</th>\n      <th>Year</th>\n      <th>Year2</th>\n    </tr>\n  </thead>\n  <tbody>\n    <tr>\n      <th>81271</th>\n      <td>1QV6tiMFM6fSOKOGLMHYYg</td>\n      <td>Poker Face</td>\n      <td>78</td>\n      <td>237200</td>\n      <td>0</td>\n      <td>['Lady Gaga']</td>\n      <td>2008-01-01</td>\n      <td>0.851</td>\n      <td>0.806</td>\n      <td>-4.620</td>\n      <td>0.0787</td>\n      <td>0.11800</td>\n      <td>0.000002</td>\n      <td>0.121</td>\n      <td>0.787</td>\n      <td>118.999</td>\n      <td>2008-01-01</td>\n      <td>2008</td>\n    </tr>\n    <tr>\n      <th>81300</th>\n      <td>5R8dQOPq8haW94K7mgERlO</td>\n      <td>Poker Face</td>\n      <td>75</td>\n      <td>237200</td>\n      <td>0</td>\n      <td>['Lady Gaga']</td>\n      <td>2008-01-01</td>\n      <td>0.851</td>\n      <td>0.806</td>\n      <td>-4.620</td>\n      <td>0.0787</td>\n      <td>0.11800</td>\n      <td>0.000002</td>\n      <td>0.121</td>\n      <td>0.787</td>\n      <td>118.999</td>\n      <td>2008-01-01</td>\n      <td>2008</td>\n    </tr>\n    <tr>\n      <th>81331</th>\n      <td>02XnQdf7sipaKBBHixz3Zp</td>\n      <td>Paparazzi</td>\n      <td>72</td>\n      <td>208307</td>\n      <td>0</td>\n      <td>['Lady Gaga']</td>\n      <td>2008-01-01</td>\n      <td>0.762</td>\n      <td>0.692</td>\n      <td>-3.973</td>\n      <td>0.0438</td>\n      <td>0.11300</td>\n      <td>0.000000</td>\n      <td>0.094</td>\n      <td>0.397</td>\n      <td>114.906</td>\n      <td>2008-01-01</td>\n      <td>2008</td>\n    </tr>\n    <tr>\n      <th>81417</th>\n      <td>7Hqig8kp32q2Ire3ECQvWM</td>\n      <td>Paparazzi</td>\n      <td>69</td>\n      <td>208307</td>\n      <td>0</td>\n      <td>['Lady Gaga']</td>\n      <td>2008-01-01</td>\n      <td>0.762</td>\n      <td>0.692</td>\n      <td>-3.973</td>\n      <td>0.0438</td>\n      <td>0.11300</td>\n      <td>0.000000</td>\n      <td>0.094</td>\n      <td>0.397</td>\n      <td>114.906</td>\n      <td>2008-01-01</td>\n      <td>2008</td>\n    </tr>\n    <tr>\n      <th>81543</th>\n      <td>0eH2eHURaXUP15D8gQlfjx</td>\n      <td>LoveGame</td>\n      <td>65</td>\n      <td>216333</td>\n      <td>0</td>\n      <td>['Lady Gaga']</td>\n      <td>2008-01-01</td>\n      <td>0.894</td>\n      <td>0.678</td>\n      <td>-5.611</td>\n      <td>0.0523</td>\n      <td>0.00569</td>\n      <td>0.000002</td>\n      <td>0.317</td>\n      <td>0.844</td>\n      <td>105.024</td>\n      <td>2008-01-01</td>\n      <td>2008</td>\n    </tr>\n  </tbody>\n</table>\n</div>"
     },
     "metadata": {},
     "execution_count": 60
    }
   ],
   "source": [
    "gaga_df['Year2'] = pd.DatetimeIndex(gaga_df['Year']).year\n",
    "gaga_df.head(5)"
   ]
  },
  {
   "cell_type": "code",
   "execution_count": 48,
   "metadata": {},
   "outputs": [
    {
     "output_type": "stream",
     "name": "stdout",
     "text": [
      "2008-01-01\n"
     ]
    },
    {
     "output_type": "error",
     "ename": "KeyError",
     "evalue": "\"None of [Index(['1QV6tiMFM6fSOKOGLMHYYg',             'Poker Face',\\n                             78,                   237200,\\n                              0,          '['Lady Gaga']',\\n                   '2008-01-01',                    0.851,\\n             0.8059999999999999,                    -4.62,\\n                         0.0787,      0.11800000000000001,\\n                       1.64e-06,                    0.121,\\n                          0.787,                  118.999],\\n      dtype='object')] are in the [index]\"",
     "traceback": [
      "\u001b[0;31m---------------------------------------------------------------------------\u001b[0m",
      "\u001b[0;31mKeyError\u001b[0m                                  Traceback (most recent call last)",
      "\u001b[0;32m<ipython-input-48-76bfe6538cae>\u001b[0m in \u001b[0;36m<module>\u001b[0;34m\u001b[0m\n\u001b[1;32m      8\u001b[0m     \u001b[0mprint\u001b[0m\u001b[0;34m(\u001b[0m\u001b[0mthis_release\u001b[0m\u001b[0;34m)\u001b[0m\u001b[0;34m\u001b[0m\u001b[0;34m\u001b[0m\u001b[0m\n\u001b[1;32m      9\u001b[0m     \u001b[0;31m# try:\u001b[0m\u001b[0;34m\u001b[0m\u001b[0;34m\u001b[0m\u001b[0;34m\u001b[0m\u001b[0m\n\u001b[0;32m---> 10\u001b[0;31m     \u001b[0mgaga_date\u001b[0m \u001b[0;34m=\u001b[0m \u001b[0mdt\u001b[0m\u001b[0;34m.\u001b[0m\u001b[0mstrptime\u001b[0m\u001b[0;34m(\u001b[0m\u001b[0;34m(\u001b[0m\u001b[0mgaga_df\u001b[0m\u001b[0;34m.\u001b[0m\u001b[0mloc\u001b[0m\u001b[0;34m[\u001b[0m\u001b[0mrow\u001b[0m\u001b[0;34m,\u001b[0m \u001b[0;34m'release_date'\u001b[0m\u001b[0;34m]\u001b[0m\u001b[0;34m)\u001b[0m\u001b[0;34m,\u001b[0m \u001b[0;34m'%Y-%m-%d'\u001b[0m\u001b[0;34m)\u001b[0m\u001b[0;34m\u001b[0m\u001b[0;34m\u001b[0m\u001b[0m\n\u001b[0m\u001b[1;32m     11\u001b[0m     \u001b[0mgaga_year\u001b[0m \u001b[0;34m=\u001b[0m \u001b[0mgaga_date\u001b[0m\u001b[0;34m.\u001b[0m\u001b[0myear\u001b[0m\u001b[0;34m\u001b[0m\u001b[0;34m\u001b[0m\u001b[0m\n\u001b[1;32m     12\u001b[0m     \u001b[0mgaga_df\u001b[0m\u001b[0;34m[\u001b[0m\u001b[0mindex\u001b[0m\u001b[0;34m,\u001b[0m \u001b[0;34m'Year'\u001b[0m\u001b[0;34m]\u001b[0m \u001b[0;34m=\u001b[0m \u001b[0mgaga_year\u001b[0m\u001b[0;34m\u001b[0m\u001b[0;34m\u001b[0m\u001b[0m\n",
      "\u001b[0;32m~/opt/anaconda3/lib/python3.8/site-packages/pandas/core/indexing.py\u001b[0m in \u001b[0;36m__getitem__\u001b[0;34m(self, key)\u001b[0m\n\u001b[1;32m    871\u001b[0m                     \u001b[0;31m# AttributeError for IntervalTree get_value\u001b[0m\u001b[0;34m\u001b[0m\u001b[0;34m\u001b[0m\u001b[0;34m\u001b[0m\u001b[0m\n\u001b[1;32m    872\u001b[0m                     \u001b[0;32mpass\u001b[0m\u001b[0;34m\u001b[0m\u001b[0;34m\u001b[0m\u001b[0m\n\u001b[0;32m--> 873\u001b[0;31m             \u001b[0;32mreturn\u001b[0m \u001b[0mself\u001b[0m\u001b[0;34m.\u001b[0m\u001b[0m_getitem_tuple\u001b[0m\u001b[0;34m(\u001b[0m\u001b[0mkey\u001b[0m\u001b[0;34m)\u001b[0m\u001b[0;34m\u001b[0m\u001b[0;34m\u001b[0m\u001b[0m\n\u001b[0m\u001b[1;32m    874\u001b[0m         \u001b[0;32melse\u001b[0m\u001b[0;34m:\u001b[0m\u001b[0;34m\u001b[0m\u001b[0;34m\u001b[0m\u001b[0m\n\u001b[1;32m    875\u001b[0m             \u001b[0;31m# we by definition only have the 0th axis\u001b[0m\u001b[0;34m\u001b[0m\u001b[0;34m\u001b[0m\u001b[0;34m\u001b[0m\u001b[0m\n",
      "\u001b[0;32m~/opt/anaconda3/lib/python3.8/site-packages/pandas/core/indexing.py\u001b[0m in \u001b[0;36m_getitem_tuple\u001b[0;34m(self, tup)\u001b[0m\n\u001b[1;32m   1042\u001b[0m     \u001b[0;32mdef\u001b[0m \u001b[0m_getitem_tuple\u001b[0m\u001b[0;34m(\u001b[0m\u001b[0mself\u001b[0m\u001b[0;34m,\u001b[0m \u001b[0mtup\u001b[0m\u001b[0;34m:\u001b[0m \u001b[0mTuple\u001b[0m\u001b[0;34m)\u001b[0m\u001b[0;34m:\u001b[0m\u001b[0;34m\u001b[0m\u001b[0;34m\u001b[0m\u001b[0m\n\u001b[1;32m   1043\u001b[0m         \u001b[0;32mtry\u001b[0m\u001b[0;34m:\u001b[0m\u001b[0;34m\u001b[0m\u001b[0;34m\u001b[0m\u001b[0m\n\u001b[0;32m-> 1044\u001b[0;31m             \u001b[0;32mreturn\u001b[0m \u001b[0mself\u001b[0m\u001b[0;34m.\u001b[0m\u001b[0m_getitem_lowerdim\u001b[0m\u001b[0;34m(\u001b[0m\u001b[0mtup\u001b[0m\u001b[0;34m)\u001b[0m\u001b[0;34m\u001b[0m\u001b[0;34m\u001b[0m\u001b[0m\n\u001b[0m\u001b[1;32m   1045\u001b[0m         \u001b[0;32mexcept\u001b[0m \u001b[0mIndexingError\u001b[0m\u001b[0;34m:\u001b[0m\u001b[0;34m\u001b[0m\u001b[0;34m\u001b[0m\u001b[0m\n\u001b[1;32m   1046\u001b[0m             \u001b[0;32mpass\u001b[0m\u001b[0;34m\u001b[0m\u001b[0;34m\u001b[0m\u001b[0m\n",
      "\u001b[0;32m~/opt/anaconda3/lib/python3.8/site-packages/pandas/core/indexing.py\u001b[0m in \u001b[0;36m_getitem_lowerdim\u001b[0;34m(self, tup)\u001b[0m\n\u001b[1;32m    808\u001b[0m                     \u001b[0;32mreturn\u001b[0m \u001b[0msection\u001b[0m\u001b[0;34m\u001b[0m\u001b[0;34m\u001b[0m\u001b[0m\n\u001b[1;32m    809\u001b[0m                 \u001b[0;31m# This is an elided recursive call to iloc/loc\u001b[0m\u001b[0;34m\u001b[0m\u001b[0;34m\u001b[0m\u001b[0;34m\u001b[0m\u001b[0m\n\u001b[0;32m--> 810\u001b[0;31m                 \u001b[0;32mreturn\u001b[0m \u001b[0mgetattr\u001b[0m\u001b[0;34m(\u001b[0m\u001b[0msection\u001b[0m\u001b[0;34m,\u001b[0m \u001b[0mself\u001b[0m\u001b[0;34m.\u001b[0m\u001b[0mname\u001b[0m\u001b[0;34m)\u001b[0m\u001b[0;34m[\u001b[0m\u001b[0mnew_key\u001b[0m\u001b[0;34m]\u001b[0m\u001b[0;34m\u001b[0m\u001b[0;34m\u001b[0m\u001b[0m\n\u001b[0m\u001b[1;32m    811\u001b[0m \u001b[0;34m\u001b[0m\u001b[0m\n\u001b[1;32m    812\u001b[0m         \u001b[0;32mraise\u001b[0m \u001b[0mIndexingError\u001b[0m\u001b[0;34m(\u001b[0m\u001b[0;34m\"not applicable\"\u001b[0m\u001b[0;34m)\u001b[0m\u001b[0;34m\u001b[0m\u001b[0;34m\u001b[0m\u001b[0m\n",
      "\u001b[0;32m~/opt/anaconda3/lib/python3.8/site-packages/pandas/core/indexing.py\u001b[0m in \u001b[0;36m__getitem__\u001b[0;34m(self, key)\u001b[0m\n\u001b[1;32m    877\u001b[0m \u001b[0;34m\u001b[0m\u001b[0m\n\u001b[1;32m    878\u001b[0m             \u001b[0mmaybe_callable\u001b[0m \u001b[0;34m=\u001b[0m \u001b[0mcom\u001b[0m\u001b[0;34m.\u001b[0m\u001b[0mapply_if_callable\u001b[0m\u001b[0;34m(\u001b[0m\u001b[0mkey\u001b[0m\u001b[0;34m,\u001b[0m \u001b[0mself\u001b[0m\u001b[0;34m.\u001b[0m\u001b[0mobj\u001b[0m\u001b[0;34m)\u001b[0m\u001b[0;34m\u001b[0m\u001b[0;34m\u001b[0m\u001b[0m\n\u001b[0;32m--> 879\u001b[0;31m             \u001b[0;32mreturn\u001b[0m \u001b[0mself\u001b[0m\u001b[0;34m.\u001b[0m\u001b[0m_getitem_axis\u001b[0m\u001b[0;34m(\u001b[0m\u001b[0mmaybe_callable\u001b[0m\u001b[0;34m,\u001b[0m \u001b[0maxis\u001b[0m\u001b[0;34m=\u001b[0m\u001b[0maxis\u001b[0m\u001b[0;34m)\u001b[0m\u001b[0;34m\u001b[0m\u001b[0;34m\u001b[0m\u001b[0m\n\u001b[0m\u001b[1;32m    880\u001b[0m \u001b[0;34m\u001b[0m\u001b[0m\n\u001b[1;32m    881\u001b[0m     \u001b[0;32mdef\u001b[0m \u001b[0m_is_scalar_access\u001b[0m\u001b[0;34m(\u001b[0m\u001b[0mself\u001b[0m\u001b[0;34m,\u001b[0m \u001b[0mkey\u001b[0m\u001b[0;34m:\u001b[0m \u001b[0mTuple\u001b[0m\u001b[0;34m)\u001b[0m\u001b[0;34m:\u001b[0m\u001b[0;34m\u001b[0m\u001b[0;34m\u001b[0m\u001b[0m\n",
      "\u001b[0;32m~/opt/anaconda3/lib/python3.8/site-packages/pandas/core/indexing.py\u001b[0m in \u001b[0;36m_getitem_axis\u001b[0;34m(self, key, axis)\u001b[0m\n\u001b[1;32m   1097\u001b[0m                     \u001b[0;32mraise\u001b[0m \u001b[0mValueError\u001b[0m\u001b[0;34m(\u001b[0m\u001b[0;34m\"Cannot index with multidimensional key\"\u001b[0m\u001b[0;34m)\u001b[0m\u001b[0;34m\u001b[0m\u001b[0;34m\u001b[0m\u001b[0m\n\u001b[1;32m   1098\u001b[0m \u001b[0;34m\u001b[0m\u001b[0m\n\u001b[0;32m-> 1099\u001b[0;31m                 \u001b[0;32mreturn\u001b[0m \u001b[0mself\u001b[0m\u001b[0;34m.\u001b[0m\u001b[0m_getitem_iterable\u001b[0m\u001b[0;34m(\u001b[0m\u001b[0mkey\u001b[0m\u001b[0;34m,\u001b[0m \u001b[0maxis\u001b[0m\u001b[0;34m=\u001b[0m\u001b[0maxis\u001b[0m\u001b[0;34m)\u001b[0m\u001b[0;34m\u001b[0m\u001b[0;34m\u001b[0m\u001b[0m\n\u001b[0m\u001b[1;32m   1100\u001b[0m \u001b[0;34m\u001b[0m\u001b[0m\n\u001b[1;32m   1101\u001b[0m             \u001b[0;31m# nested tuple slicing\u001b[0m\u001b[0;34m\u001b[0m\u001b[0;34m\u001b[0m\u001b[0;34m\u001b[0m\u001b[0m\n",
      "\u001b[0;32m~/opt/anaconda3/lib/python3.8/site-packages/pandas/core/indexing.py\u001b[0m in \u001b[0;36m_getitem_iterable\u001b[0;34m(self, key, axis)\u001b[0m\n\u001b[1;32m   1035\u001b[0m \u001b[0;34m\u001b[0m\u001b[0m\n\u001b[1;32m   1036\u001b[0m         \u001b[0;31m# A collection of keys\u001b[0m\u001b[0;34m\u001b[0m\u001b[0;34m\u001b[0m\u001b[0;34m\u001b[0m\u001b[0m\n\u001b[0;32m-> 1037\u001b[0;31m         \u001b[0mkeyarr\u001b[0m\u001b[0;34m,\u001b[0m \u001b[0mindexer\u001b[0m \u001b[0;34m=\u001b[0m \u001b[0mself\u001b[0m\u001b[0;34m.\u001b[0m\u001b[0m_get_listlike_indexer\u001b[0m\u001b[0;34m(\u001b[0m\u001b[0mkey\u001b[0m\u001b[0;34m,\u001b[0m \u001b[0maxis\u001b[0m\u001b[0;34m,\u001b[0m \u001b[0mraise_missing\u001b[0m\u001b[0;34m=\u001b[0m\u001b[0;32mFalse\u001b[0m\u001b[0;34m)\u001b[0m\u001b[0;34m\u001b[0m\u001b[0;34m\u001b[0m\u001b[0m\n\u001b[0m\u001b[1;32m   1038\u001b[0m         return self.obj._reindex_with_indexers(\n\u001b[1;32m   1039\u001b[0m             \u001b[0;34m{\u001b[0m\u001b[0maxis\u001b[0m\u001b[0;34m:\u001b[0m \u001b[0;34m[\u001b[0m\u001b[0mkeyarr\u001b[0m\u001b[0;34m,\u001b[0m \u001b[0mindexer\u001b[0m\u001b[0;34m]\u001b[0m\u001b[0;34m}\u001b[0m\u001b[0;34m,\u001b[0m \u001b[0mcopy\u001b[0m\u001b[0;34m=\u001b[0m\u001b[0;32mTrue\u001b[0m\u001b[0;34m,\u001b[0m \u001b[0mallow_dups\u001b[0m\u001b[0;34m=\u001b[0m\u001b[0;32mTrue\u001b[0m\u001b[0;34m\u001b[0m\u001b[0;34m\u001b[0m\u001b[0m\n",
      "\u001b[0;32m~/opt/anaconda3/lib/python3.8/site-packages/pandas/core/indexing.py\u001b[0m in \u001b[0;36m_get_listlike_indexer\u001b[0;34m(self, key, axis, raise_missing)\u001b[0m\n\u001b[1;32m   1252\u001b[0m             \u001b[0mkeyarr\u001b[0m\u001b[0;34m,\u001b[0m \u001b[0mindexer\u001b[0m\u001b[0;34m,\u001b[0m \u001b[0mnew_indexer\u001b[0m \u001b[0;34m=\u001b[0m \u001b[0max\u001b[0m\u001b[0;34m.\u001b[0m\u001b[0m_reindex_non_unique\u001b[0m\u001b[0;34m(\u001b[0m\u001b[0mkeyarr\u001b[0m\u001b[0;34m)\u001b[0m\u001b[0;34m\u001b[0m\u001b[0;34m\u001b[0m\u001b[0m\n\u001b[1;32m   1253\u001b[0m \u001b[0;34m\u001b[0m\u001b[0m\n\u001b[0;32m-> 1254\u001b[0;31m         \u001b[0mself\u001b[0m\u001b[0;34m.\u001b[0m\u001b[0m_validate_read_indexer\u001b[0m\u001b[0;34m(\u001b[0m\u001b[0mkeyarr\u001b[0m\u001b[0;34m,\u001b[0m \u001b[0mindexer\u001b[0m\u001b[0;34m,\u001b[0m \u001b[0maxis\u001b[0m\u001b[0;34m,\u001b[0m \u001b[0mraise_missing\u001b[0m\u001b[0;34m=\u001b[0m\u001b[0mraise_missing\u001b[0m\u001b[0;34m)\u001b[0m\u001b[0;34m\u001b[0m\u001b[0;34m\u001b[0m\u001b[0m\n\u001b[0m\u001b[1;32m   1255\u001b[0m         \u001b[0;32mreturn\u001b[0m \u001b[0mkeyarr\u001b[0m\u001b[0;34m,\u001b[0m \u001b[0mindexer\u001b[0m\u001b[0;34m\u001b[0m\u001b[0;34m\u001b[0m\u001b[0m\n\u001b[1;32m   1256\u001b[0m \u001b[0;34m\u001b[0m\u001b[0m\n",
      "\u001b[0;32m~/opt/anaconda3/lib/python3.8/site-packages/pandas/core/indexing.py\u001b[0m in \u001b[0;36m_validate_read_indexer\u001b[0;34m(self, key, indexer, axis, raise_missing)\u001b[0m\n\u001b[1;32m   1296\u001b[0m             \u001b[0;32mif\u001b[0m \u001b[0mmissing\u001b[0m \u001b[0;34m==\u001b[0m \u001b[0mlen\u001b[0m\u001b[0;34m(\u001b[0m\u001b[0mindexer\u001b[0m\u001b[0;34m)\u001b[0m\u001b[0;34m:\u001b[0m\u001b[0;34m\u001b[0m\u001b[0;34m\u001b[0m\u001b[0m\n\u001b[1;32m   1297\u001b[0m                 \u001b[0maxis_name\u001b[0m \u001b[0;34m=\u001b[0m \u001b[0mself\u001b[0m\u001b[0;34m.\u001b[0m\u001b[0mobj\u001b[0m\u001b[0;34m.\u001b[0m\u001b[0m_get_axis_name\u001b[0m\u001b[0;34m(\u001b[0m\u001b[0maxis\u001b[0m\u001b[0;34m)\u001b[0m\u001b[0;34m\u001b[0m\u001b[0;34m\u001b[0m\u001b[0m\n\u001b[0;32m-> 1298\u001b[0;31m                 \u001b[0;32mraise\u001b[0m \u001b[0mKeyError\u001b[0m\u001b[0;34m(\u001b[0m\u001b[0;34mf\"None of [{key}] are in the [{axis_name}]\"\u001b[0m\u001b[0;34m)\u001b[0m\u001b[0;34m\u001b[0m\u001b[0;34m\u001b[0m\u001b[0m\n\u001b[0m\u001b[1;32m   1299\u001b[0m \u001b[0;34m\u001b[0m\u001b[0m\n\u001b[1;32m   1300\u001b[0m             \u001b[0;31m# We (temporarily) allow for some missing keys with .loc, except in\u001b[0m\u001b[0;34m\u001b[0m\u001b[0;34m\u001b[0m\u001b[0;34m\u001b[0m\u001b[0m\n",
      "\u001b[0;31mKeyError\u001b[0m: \"None of [Index(['1QV6tiMFM6fSOKOGLMHYYg',             'Poker Face',\\n                             78,                   237200,\\n                              0,          '['Lady Gaga']',\\n                   '2008-01-01',                    0.851,\\n             0.8059999999999999,                    -4.62,\\n                         0.0787,      0.11800000000000001,\\n                       1.64e-06,                    0.121,\\n                          0.787,                  118.999],\\n      dtype='object')] are in the [index]\""
     ]
    }
   ],
   "source": [
    "# Changing release date to year\n",
    "## use iterrows to iterate through pandas dataframe\n",
    "#. for index, row in gaga_df.iterrows():\n",
    "for index, row in gaga_df.iterrows():\n",
    "    \n",
    "    this_release = row['release_date'] # not sure I will need this\n",
    "    # convert date using datetime.strptime\n",
    "    print(this_release)\n",
    "    # try:\n",
    "    gaga_date = dt.strptime((gaga_df.loc[row, 'release_date']), '%Y-%m-%d')\n",
    "    gaga_year = gaga_date.year\n",
    "    gaga_df[index, 'Year'] = gaga_year\n",
    "    # except (KeyError, IndexError):\n",
    "     #   gaga_df[row, 'year'] = gaga_df.loc[row, 'release_date']\n",
    "      #  print(f\"check row {row} for strings\")"
   ]
  },
  {
   "cell_type": "code",
   "execution_count": 13,
   "metadata": {},
   "outputs": [
    {
     "output_type": "execute_result",
     "data": {
      "text/plain": [
       "datetime.datetime(2008, 1, 1, 0, 0)"
      ]
     },
     "metadata": {},
     "execution_count": 13
    }
   ],
   "source": [
    "# THIS WORKS -- extracting date with datetime\n",
    "gaga_date = dt.strptime((gaga_df.loc[0,'release_date']), '%Y-%m-%d') # initially couldn't get to work because the index number wasn't 1; should probably reindex along the way\n",
    "gaga_date"
   ]
  },
  {
   "cell_type": "code",
   "execution_count": 14,
   "metadata": {},
   "outputs": [
    {
     "output_type": "execute_result",
     "data": {
      "text/plain": [
       "2008"
      ]
     },
     "metadata": {},
     "execution_count": 14
    }
   ],
   "source": [
    "# THIS WORKS -- extracting year from datetime date\n",
    "gaga_year = gaga_date.year\n",
    "gaga_year"
   ]
  },
  {
   "cell_type": "code",
   "execution_count": null,
   "metadata": {},
   "outputs": [],
   "source": []
  },
  {
   "cell_type": "code",
   "execution_count": null,
   "metadata": {},
   "outputs": [],
   "source": []
  },
  {
   "cell_type": "code",
   "execution_count": 28,
   "metadata": {},
   "outputs": [
    {
     "output_type": "execute_result",
     "data": {
      "text/plain": [
       "   index                      id        name  popularity  duration_ms  \\\n",
       "0  81271  1QV6tiMFM6fSOKOGLMHYYg  Poker Face          78       237200   \n",
       "1  81300  5R8dQOPq8haW94K7mgERlO  Poker Face          75       237200   \n",
       "2  81331  02XnQdf7sipaKBBHixz3Zp   Paparazzi          72       208307   \n",
       "\n",
       "   explicit        artists release_date  danceability  energy  loudness  \\\n",
       "0         0  ['Lady Gaga']   2008-01-01         0.851   0.806    -4.620   \n",
       "1         0  ['Lady Gaga']   2008-01-01         0.851   0.806    -4.620   \n",
       "2         0  ['Lady Gaga']   2008-01-01         0.762   0.692    -3.973   \n",
       "\n",
       "   speechiness  acousticness  instrumentalness  liveness  valence    tempo  \\\n",
       "0       0.0787         0.118          0.000002     0.121    0.787  118.999   \n",
       "1       0.0787         0.118          0.000002     0.121    0.787  118.999   \n",
       "2       0.0438         0.113          0.000000     0.094    0.397  114.906   \n",
       "\n",
       "   Year  \n",
       "0  2008  \n",
       "1        \n",
       "2        "
      ],
      "text/html": "<div>\n<style scoped>\n    .dataframe tbody tr th:only-of-type {\n        vertical-align: middle;\n    }\n\n    .dataframe tbody tr th {\n        vertical-align: top;\n    }\n\n    .dataframe thead th {\n        text-align: right;\n    }\n</style>\n<table border=\"1\" class=\"dataframe\">\n  <thead>\n    <tr style=\"text-align: right;\">\n      <th></th>\n      <th>index</th>\n      <th>id</th>\n      <th>name</th>\n      <th>popularity</th>\n      <th>duration_ms</th>\n      <th>explicit</th>\n      <th>artists</th>\n      <th>release_date</th>\n      <th>danceability</th>\n      <th>energy</th>\n      <th>loudness</th>\n      <th>speechiness</th>\n      <th>acousticness</th>\n      <th>instrumentalness</th>\n      <th>liveness</th>\n      <th>valence</th>\n      <th>tempo</th>\n      <th>Year</th>\n    </tr>\n  </thead>\n  <tbody>\n    <tr>\n      <th>0</th>\n      <td>81271</td>\n      <td>1QV6tiMFM6fSOKOGLMHYYg</td>\n      <td>Poker Face</td>\n      <td>78</td>\n      <td>237200</td>\n      <td>0</td>\n      <td>['Lady Gaga']</td>\n      <td>2008-01-01</td>\n      <td>0.851</td>\n      <td>0.806</td>\n      <td>-4.620</td>\n      <td>0.0787</td>\n      <td>0.118</td>\n      <td>0.000002</td>\n      <td>0.121</td>\n      <td>0.787</td>\n      <td>118.999</td>\n      <td>2008</td>\n    </tr>\n    <tr>\n      <th>1</th>\n      <td>81300</td>\n      <td>5R8dQOPq8haW94K7mgERlO</td>\n      <td>Poker Face</td>\n      <td>75</td>\n      <td>237200</td>\n      <td>0</td>\n      <td>['Lady Gaga']</td>\n      <td>2008-01-01</td>\n      <td>0.851</td>\n      <td>0.806</td>\n      <td>-4.620</td>\n      <td>0.0787</td>\n      <td>0.118</td>\n      <td>0.000002</td>\n      <td>0.121</td>\n      <td>0.787</td>\n      <td>118.999</td>\n      <td></td>\n    </tr>\n    <tr>\n      <th>2</th>\n      <td>81331</td>\n      <td>02XnQdf7sipaKBBHixz3Zp</td>\n      <td>Paparazzi</td>\n      <td>72</td>\n      <td>208307</td>\n      <td>0</td>\n      <td>['Lady Gaga']</td>\n      <td>2008-01-01</td>\n      <td>0.762</td>\n      <td>0.692</td>\n      <td>-3.973</td>\n      <td>0.0438</td>\n      <td>0.113</td>\n      <td>0.000000</td>\n      <td>0.094</td>\n      <td>0.397</td>\n      <td>114.906</td>\n      <td></td>\n    </tr>\n  </tbody>\n</table>\n</div>"
     },
     "metadata": {},
     "execution_count": 28
    }
   ],
   "source": [
    "# THIS WORKS -- putting specific value into specific location of df\n",
    "gaga_df.at[0, 'Year'] = gaga_year\n",
    "gaga_df.head(3)"
   ]
  },
  {
   "source": [
    "# Saving the unique cities may give clue to saving the unique songs -- so maybe check artist, then name, then duration & keep it if duration is different?\n",
    "# From WeatherPy\n",
    "# List for holding lat_lngs and cities\n",
    "lat_lngs = []\n",
    "cities = []\n",
    "\n",
    "# Create a set of random lat and lng combinations\n",
    "lats = np.random.uniform(lat_range[0], lat_range[1], size=1500)\n",
    "lngs = np.random.uniform(lng_range[0], lng_range[1], size=1500)\n",
    "lat_lngs = zip(lats, lngs)\n",
    "\n",
    "# Identify nearest city for each lat, lng combination\n",
    "for lat_lng in lat_lngs:\n",
    "    city = citipy.nearest_city(lat_lng[0], lat_lng[1]).city_name\n",
    "    \n",
    "    # If the city is unique, then add it to a our cities list\n",
    "    if city not in cities:\n",
    "        cities.append(city)\n",
    "    \n",
    "# Print the city count to confirm sufficient count\n",
    "len(cities)"
   ],
   "cell_type": "markdown",
   "metadata": {}
  }
 ]
}